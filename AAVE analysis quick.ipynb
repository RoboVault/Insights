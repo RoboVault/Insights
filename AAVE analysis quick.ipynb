{
 "cells": [
  {
   "cell_type": "code",
   "execution_count": 1,
   "id": "9630262c",
   "metadata": {},
   "outputs": [],
   "source": [
    "import pandas as pd \n",
    "%matplotlib inline\n",
    "import matplotlib.pyplot as plt\n",
    "import requests\n",
    "import json\n"
   ]
  },
  {
   "cell_type": "code",
   "execution_count": 2,
   "id": "d5ded0e1",
   "metadata": {},
   "outputs": [],
   "source": [
    "df = pd.read_csv(\"aaveExample.csv\")\n",
    "\n",
    "# Clean Up dates\n",
    "\n",
    "df['FirstDeposit'] = df['FirstDeposit'].astype('datetime64[ns]')\n",
    "df['LastWithdraw'] = df['LastWithdraw'].astype('datetime64[ns]')\n",
    "\n"
   ]
  },
  {
   "cell_type": "code",
   "execution_count": 3,
   "id": "d75ba75e",
   "metadata": {},
   "outputs": [
    {
     "data": {
      "text/html": [
       "<div>\n",
       "<style scoped>\n",
       "    .dataframe tbody tr th:only-of-type {\n",
       "        vertical-align: middle;\n",
       "    }\n",
       "\n",
       "    .dataframe tbody tr th {\n",
       "        vertical-align: top;\n",
       "    }\n",
       "\n",
       "    .dataframe thead th {\n",
       "        text-align: right;\n",
       "    }\n",
       "</style>\n",
       "<table border=\"1\" class=\"dataframe\">\n",
       "  <thead>\n",
       "    <tr style=\"text-align: right;\">\n",
       "      <th></th>\n",
       "      <th>Unnamed: 0</th>\n",
       "      <th>user</th>\n",
       "      <th>FirstDeposit</th>\n",
       "      <th>FirstBorrow</th>\n",
       "      <th>LastWithdraw</th>\n",
       "      <th>LastLiquidation</th>\n",
       "      <th>TotalUSDSupplied</th>\n",
       "      <th>TotalDepositsWETH</th>\n",
       "      <th>TotalWithdrawalsWETH</th>\n",
       "      <th>TotalLiquidationsWETH</th>\n",
       "      <th>...</th>\n",
       "      <th>TotalLiquidationsLUSD</th>\n",
       "      <th>TotalBorrowsLUSD</th>\n",
       "      <th>TotalRepaymentsLUSD</th>\n",
       "      <th>Total CollateralLUSD</th>\n",
       "      <th>Total Collateral USDLUSD</th>\n",
       "      <th>Total Collateral USD</th>\n",
       "      <th>End Date</th>\n",
       "      <th>TotalDaysSinceEntry</th>\n",
       "      <th>DaysUntilExit</th>\n",
       "      <th>Exit</th>\n",
       "    </tr>\n",
       "  </thead>\n",
       "  <tbody>\n",
       "    <tr>\n",
       "      <th>0</th>\n",
       "      <td>0</td>\n",
       "      <td>0x1ad3b6b2df0046cef9bbbc3441790c3a600fd989</td>\n",
       "      <td>2021-03-30 05:57:28</td>\n",
       "      <td>2021-03-30 05:57:28</td>\n",
       "      <td>2021-06-12 09:30:28</td>\n",
       "      <td>NaN</td>\n",
       "      <td>509487.013270</td>\n",
       "      <td>114.90</td>\n",
       "      <td>0.0</td>\n",
       "      <td>0.0</td>\n",
       "      <td>...</td>\n",
       "      <td>0.0</td>\n",
       "      <td>0.0</td>\n",
       "      <td>0.0</td>\n",
       "      <td>0.0</td>\n",
       "      <td>0.0</td>\n",
       "      <td>164979.744755</td>\n",
       "      <td>2022-12-31 23:59:11</td>\n",
       "      <td>641</td>\n",
       "      <td>74.0</td>\n",
       "      <td>False</td>\n",
       "    </tr>\n",
       "    <tr>\n",
       "      <th>1</th>\n",
       "      <td>1</td>\n",
       "      <td>0x2c3e64f5077f5670caff4177fca1e182dedead3f</td>\n",
       "      <td>2022-08-25 02:31:15</td>\n",
       "      <td>2022-08-25 02:31:15</td>\n",
       "      <td>NaT</td>\n",
       "      <td>NaN</td>\n",
       "      <td>1.057695</td>\n",
       "      <td>0.00</td>\n",
       "      <td>0.0</td>\n",
       "      <td>0.0</td>\n",
       "      <td>...</td>\n",
       "      <td>0.0</td>\n",
       "      <td>0.0</td>\n",
       "      <td>0.0</td>\n",
       "      <td>0.0</td>\n",
       "      <td>0.0</td>\n",
       "      <td>0.780861</td>\n",
       "      <td>2022-12-31 23:59:11</td>\n",
       "      <td>128</td>\n",
       "      <td>NaN</td>\n",
       "      <td>False</td>\n",
       "    </tr>\n",
       "    <tr>\n",
       "      <th>2</th>\n",
       "      <td>2</td>\n",
       "      <td>0xa8b7a33f25490b8eebb10312e82403e8e9013663</td>\n",
       "      <td>2021-06-29 05:41:10</td>\n",
       "      <td>2021-06-29 05:41:10</td>\n",
       "      <td>NaT</td>\n",
       "      <td>NaN</td>\n",
       "      <td>42.350787</td>\n",
       "      <td>0.02</td>\n",
       "      <td>0.0</td>\n",
       "      <td>0.0</td>\n",
       "      <td>...</td>\n",
       "      <td>0.0</td>\n",
       "      <td>0.0</td>\n",
       "      <td>0.0</td>\n",
       "      <td>0.0</td>\n",
       "      <td>0.0</td>\n",
       "      <td>24.405800</td>\n",
       "      <td>2022-12-31 23:59:11</td>\n",
       "      <td>550</td>\n",
       "      <td>NaN</td>\n",
       "      <td>False</td>\n",
       "    </tr>\n",
       "    <tr>\n",
       "      <th>3</th>\n",
       "      <td>3</td>\n",
       "      <td>0x80d4ea495d4a02d84486c50bb197ba3bd3622859</td>\n",
       "      <td>2022-06-04 06:15:27</td>\n",
       "      <td>2022-06-04 06:15:27</td>\n",
       "      <td>2022-07-06 14:15:09</td>\n",
       "      <td>NaN</td>\n",
       "      <td>32435.890847</td>\n",
       "      <td>0.00</td>\n",
       "      <td>0.0</td>\n",
       "      <td>0.0</td>\n",
       "      <td>...</td>\n",
       "      <td>0.0</td>\n",
       "      <td>0.0</td>\n",
       "      <td>0.0</td>\n",
       "      <td>0.0</td>\n",
       "      <td>0.0</td>\n",
       "      <td>-21.703572</td>\n",
       "      <td>2022-12-31 23:59:11</td>\n",
       "      <td>210</td>\n",
       "      <td>32.0</td>\n",
       "      <td>True</td>\n",
       "    </tr>\n",
       "    <tr>\n",
       "      <th>4</th>\n",
       "      <td>4</td>\n",
       "      <td>0x55d23b6a55ebac344a1a2e664e803a6880b46c83</td>\n",
       "      <td>2022-10-19 08:27:47</td>\n",
       "      <td>2022-10-19 08:27:47</td>\n",
       "      <td>2022-10-28 11:08:59</td>\n",
       "      <td>NaN</td>\n",
       "      <td>11.957777</td>\n",
       "      <td>0.00</td>\n",
       "      <td>0.0</td>\n",
       "      <td>0.0</td>\n",
       "      <td>...</td>\n",
       "      <td>0.0</td>\n",
       "      <td>0.0</td>\n",
       "      <td>0.0</td>\n",
       "      <td>0.0</td>\n",
       "      <td>0.0</td>\n",
       "      <td>6.355920</td>\n",
       "      <td>2022-12-31 23:59:11</td>\n",
       "      <td>73</td>\n",
       "      <td>9.0</td>\n",
       "      <td>False</td>\n",
       "    </tr>\n",
       "  </tbody>\n",
       "</table>\n",
       "<p>5 rows × 271 columns</p>\n",
       "</div>"
      ],
      "text/plain": [
       "   Unnamed: 0                                        user        FirstDeposit  \\\n",
       "0           0  0x1ad3b6b2df0046cef9bbbc3441790c3a600fd989 2021-03-30 05:57:28   \n",
       "1           1  0x2c3e64f5077f5670caff4177fca1e182dedead3f 2022-08-25 02:31:15   \n",
       "2           2  0xa8b7a33f25490b8eebb10312e82403e8e9013663 2021-06-29 05:41:10   \n",
       "3           3  0x80d4ea495d4a02d84486c50bb197ba3bd3622859 2022-06-04 06:15:27   \n",
       "4           4  0x55d23b6a55ebac344a1a2e664e803a6880b46c83 2022-10-19 08:27:47   \n",
       "\n",
       "           FirstBorrow        LastWithdraw LastLiquidation  TotalUSDSupplied  \\\n",
       "0  2021-03-30 05:57:28 2021-06-12 09:30:28             NaN     509487.013270   \n",
       "1  2022-08-25 02:31:15                 NaT             NaN          1.057695   \n",
       "2  2021-06-29 05:41:10                 NaT             NaN         42.350787   \n",
       "3  2022-06-04 06:15:27 2022-07-06 14:15:09             NaN      32435.890847   \n",
       "4  2022-10-19 08:27:47 2022-10-28 11:08:59             NaN         11.957777   \n",
       "\n",
       "   TotalDepositsWETH  TotalWithdrawalsWETH  TotalLiquidationsWETH  ...  \\\n",
       "0             114.90                   0.0                    0.0  ...   \n",
       "1               0.00                   0.0                    0.0  ...   \n",
       "2               0.02                   0.0                    0.0  ...   \n",
       "3               0.00                   0.0                    0.0  ...   \n",
       "4               0.00                   0.0                    0.0  ...   \n",
       "\n",
       "   TotalLiquidationsLUSD  TotalBorrowsLUSD  TotalRepaymentsLUSD  \\\n",
       "0                    0.0               0.0                  0.0   \n",
       "1                    0.0               0.0                  0.0   \n",
       "2                    0.0               0.0                  0.0   \n",
       "3                    0.0               0.0                  0.0   \n",
       "4                    0.0               0.0                  0.0   \n",
       "\n",
       "   Total CollateralLUSD  Total Collateral USDLUSD  Total Collateral USD  \\\n",
       "0                   0.0                       0.0         164979.744755   \n",
       "1                   0.0                       0.0              0.780861   \n",
       "2                   0.0                       0.0             24.405800   \n",
       "3                   0.0                       0.0            -21.703572   \n",
       "4                   0.0                       0.0              6.355920   \n",
       "\n",
       "              End Date  TotalDaysSinceEntry  DaysUntilExit   Exit  \n",
       "0  2022-12-31 23:59:11                  641           74.0  False  \n",
       "1  2022-12-31 23:59:11                  128            NaN  False  \n",
       "2  2022-12-31 23:59:11                  550            NaN  False  \n",
       "3  2022-12-31 23:59:11                  210           32.0   True  \n",
       "4  2022-12-31 23:59:11                   73            9.0  False  \n",
       "\n",
       "[5 rows x 271 columns]"
      ]
     },
     "execution_count": 3,
     "metadata": {},
     "output_type": "execute_result"
    }
   ],
   "source": [
    "df.head()"
   ]
  },
  {
   "cell_type": "code",
   "execution_count": 4,
   "id": "d77377e6",
   "metadata": {},
   "outputs": [],
   "source": [
    "# calc retention\n",
    "\n",
    "# Filters - applied when calculating retention \n",
    "AssetDeposited = ['WETH']\n",
    "minDepositValue = 10000\n",
    "\n",
    "\n",
    "Days = range(500)\n",
    "reducedDf = df[df['TotalUSDSupplied'] > minDepositValue]\n",
    "retentionList = []\n",
    "\n",
    "for day in Days :\n",
    "    reducedDf = reducedDf[reducedDf['TotalDaysSinceEntry'] > day]\n",
    "    n = len(reducedDf) \n",
    "    exits = (reducedDf[reducedDf.Exit == True])\n",
    "    retention = 1 - sum(exits['DaysUntilExit'] < day) / len(reducedDf)\n",
    "    retentionList.append(retention)"
   ]
  },
  {
   "cell_type": "code",
   "execution_count": 5,
   "id": "b025e620",
   "metadata": {},
   "outputs": [
    {
     "data": {
      "text/plain": [
       "[<matplotlib.lines.Line2D at 0x7f7db08531c0>]"
      ]
     },
     "execution_count": 5,
     "metadata": {},
     "output_type": "execute_result"
    },
    {
     "data": {
      "image/png": "[encoded data removed]",
      "text/plain": [
       "<Figure size 432x288 with 1 Axes>"
      ]
     },
     "metadata": {
      "needs_background": "light"
     },
     "output_type": "display_data"
    }
   ],
   "source": [
    "plt.plot(retentionList)"
   ]
  },
  {
   "cell_type": "code",
   "execution_count": 74,
   "id": "d8697b20",
   "metadata": {},
   "outputs": [],
   "source": [
    "date = pd.Timestamp('2022-10-01')\n",
    "# New Users \n",
    "minDepositValue = 100000\n",
    "\n",
    "newUsers = list(df[(df['FirstDeposit'] > date) & (df['TotalUSDSupplied'] >= minDepositValue) & (df['Exit'] == False)]['user'])\n",
    "lostUsers = list(df[(df['LastWithdraw'] > date) & (df['TotalUSDSupplied'] >= minDepositValue) & (df['Exit'] == True)]['user'])"
   ]
  },
  {
   "cell_type": "code",
   "execution_count": 75,
   "id": "c7129f7e",
   "metadata": {},
   "outputs": [],
   "source": [
    "userDf = pd.read_csv(\"AAVEusers.csv\")"
   ]
  },
  {
   "cell_type": "code",
   "execution_count": 76,
   "id": "e86e1f02",
   "metadata": {},
   "outputs": [],
   "source": [
    "### New User Portfolios\n",
    "\n",
    "newApps = userDf[userDf.User.isin(newUsers)]"
   ]
  },
  {
   "cell_type": "code",
   "execution_count": null,
   "id": "fc63a52f",
   "metadata": {},
   "outputs": [],
   "source": []
  },
  {
   "cell_type": "code",
   "execution_count": 53,
   "id": "66e3c9d1",
   "metadata": {},
   "outputs": [
    {
     "data": {
      "text/html": [
       "<div>\n",
       "<style scoped>\n",
       "    .dataframe tbody tr th:only-of-type {\n",
       "        vertical-align: middle;\n",
       "    }\n",
       "\n",
       "    .dataframe tbody tr th {\n",
       "        vertical-align: top;\n",
       "    }\n",
       "\n",
       "    .dataframe thead th {\n",
       "        text-align: right;\n",
       "    }\n",
       "</style>\n",
       "<table border=\"1\" class=\"dataframe\">\n",
       "  <thead>\n",
       "    <tr style=\"text-align: right;\">\n",
       "      <th></th>\n",
       "      <th>Unnamed: 0</th>\n",
       "      <th>User</th>\n",
       "      <th>Name</th>\n",
       "      <th>Chain</th>\n",
       "      <th>Value</th>\n",
       "    </tr>\n",
       "  </thead>\n",
       "  <tbody>\n",
       "    <tr>\n",
       "      <th>5226</th>\n",
       "      <td>5226</td>\n",
       "      <td>0xd35db3b19c8c2a60b8613e5b30aadcd290c99e75</td>\n",
       "      <td>GrizzlyFi</td>\n",
       "      <td>bsc</td>\n",
       "      <td>920688.112760</td>\n",
       "    </tr>\n",
       "    <tr>\n",
       "      <th>5227</th>\n",
       "      <td>5227</td>\n",
       "      <td>0xd35db3b19c8c2a60b8613e5b30aadcd290c99e75</td>\n",
       "      <td>Venus</td>\n",
       "      <td>bsc</td>\n",
       "      <td>84016.050593</td>\n",
       "    </tr>\n",
       "    <tr>\n",
       "      <th>5228</th>\n",
       "      <td>5228</td>\n",
       "      <td>0xd35db3b19c8c2a60b8613e5b30aadcd290c99e75</td>\n",
       "      <td>Compound</td>\n",
       "      <td>eth</td>\n",
       "      <td>6.657349</td>\n",
       "    </tr>\n",
       "    <tr>\n",
       "      <th>5229</th>\n",
       "      <td>5229</td>\n",
       "      <td>0xd35db3b19c8c2a60b8613e5b30aadcd290c99e75</td>\n",
       "      <td>Damm Finance</td>\n",
       "      <td>eth</td>\n",
       "      <td>0.000000</td>\n",
       "    </tr>\n",
       "    <tr>\n",
       "      <th>5230</th>\n",
       "      <td>5230</td>\n",
       "      <td>0xd35db3b19c8c2a60b8613e5b30aadcd290c99e75</td>\n",
       "      <td>DeFi Franc</td>\n",
       "      <td>eth</td>\n",
       "      <td>0.011439</td>\n",
       "    </tr>\n",
       "    <tr>\n",
       "      <th>5231</th>\n",
       "      <td>5231</td>\n",
       "      <td>0xd35db3b19c8c2a60b8613e5b30aadcd290c99e75</td>\n",
       "      <td>Geist</td>\n",
       "      <td>ftm</td>\n",
       "      <td>461379.629425</td>\n",
       "    </tr>\n",
       "  </tbody>\n",
       "</table>\n",
       "</div>"
      ],
      "text/plain": [
       "      Unnamed: 0                                        User          Name  \\\n",
       "5226        5226  0xd35db3b19c8c2a60b8613e5b30aadcd290c99e75     GrizzlyFi   \n",
       "5227        5227  0xd35db3b19c8c2a60b8613e5b30aadcd290c99e75         Venus   \n",
       "5228        5228  0xd35db3b19c8c2a60b8613e5b30aadcd290c99e75      Compound   \n",
       "5229        5229  0xd35db3b19c8c2a60b8613e5b30aadcd290c99e75  Damm Finance   \n",
       "5230        5230  0xd35db3b19c8c2a60b8613e5b30aadcd290c99e75    DeFi Franc   \n",
       "5231        5231  0xd35db3b19c8c2a60b8613e5b30aadcd290c99e75         Geist   \n",
       "\n",
       "     Chain          Value  \n",
       "5226   bsc  920688.112760  \n",
       "5227   bsc   84016.050593  \n",
       "5228   eth       6.657349  \n",
       "5229   eth       0.000000  \n",
       "5230   eth       0.011439  \n",
       "5231   ftm  461379.629425  "
      ]
     },
     "execution_count": 53,
     "metadata": {},
     "output_type": "execute_result"
    }
   ],
   "source": [
    "### Lost User Portfolios\n",
    "\n",
    "userDf[userDf.User == lostUsers[2]]"
   ]
  },
  {
   "cell_type": "code",
   "execution_count": 54,
   "id": "61f602f5",
   "metadata": {},
   "outputs": [],
   "source": [
    "def totalTVL(row):\n",
    "    return userDf[userDf.User == row['user']]['Value'].sum()\n",
    "\n",
    "def totalTVLAAVE(row):\n",
    "    return userDf[(userDf.User == row['user']) & (userDf.Name == 'Aave V2')]['Value'].sum()"
   ]
  },
  {
   "cell_type": "code",
   "execution_count": 55,
   "id": "3ff321ad",
   "metadata": {},
   "outputs": [],
   "source": [
    "df['totalTVL'] = df.apply(totalTVL, axis=1)\n",
    "df['totalTVLAAVE'] = df.apply(totalTVLAAVE, axis=1)\n",
    "\n",
    "df['Percent In AAVE'] = df['totalTVLAAVE'] / df['totalTVL']"
   ]
  },
  {
   "cell_type": "code",
   "execution_count": 56,
   "id": "1b71e831",
   "metadata": {},
   "outputs": [],
   "source": [
    "# Filters - applied when running analysis retention \n",
    "minTVL = 10000\n",
    "\n",
    "reducedDf = df[df['totalTVL'] > minTVL]\n",
    "\n"
   ]
  },
  {
   "cell_type": "code",
   "execution_count": null,
   "id": "5ba32662",
   "metadata": {},
   "outputs": [],
   "source": []
  },
  {
   "cell_type": "code",
   "execution_count": 57,
   "id": "c9428724",
   "metadata": {},
   "outputs": [
    {
     "data": {
      "text/html": [
       "<div>\n",
       "<style scoped>\n",
       "    .dataframe tbody tr th:only-of-type {\n",
       "        vertical-align: middle;\n",
       "    }\n",
       "\n",
       "    .dataframe tbody tr th {\n",
       "        vertical-align: top;\n",
       "    }\n",
       "\n",
       "    .dataframe thead th {\n",
       "        text-align: right;\n",
       "    }\n",
       "</style>\n",
       "<table border=\"1\" class=\"dataframe\">\n",
       "  <thead>\n",
       "    <tr style=\"text-align: right;\">\n",
       "      <th></th>\n",
       "      <th>user</th>\n",
       "      <th>FirstDeposit</th>\n",
       "      <th>totalTVLAAVE</th>\n",
       "      <th>totalTVL</th>\n",
       "      <th>Percent In AAVE</th>\n",
       "    </tr>\n",
       "  </thead>\n",
       "  <tbody>\n",
       "    <tr>\n",
       "      <th>406</th>\n",
       "      <td>0x645c4c0c95c1aa6ef25d12f4a25038ca9b0c6cc7</td>\n",
       "      <td>2022-11-07 01:40:23</td>\n",
       "      <td>1.722756e+07</td>\n",
       "      <td>1.722756e+07</td>\n",
       "      <td>1.000000</td>\n",
       "    </tr>\n",
       "    <tr>\n",
       "      <th>877</th>\n",
       "      <td>0xf89a2234f442ce862443f01c3998701a4cc4a3e3</td>\n",
       "      <td>2022-04-12 21:39:34</td>\n",
       "      <td>6.302461e+06</td>\n",
       "      <td>6.302461e+06</td>\n",
       "      <td>1.000000</td>\n",
       "    </tr>\n",
       "    <tr>\n",
       "      <th>21</th>\n",
       "      <td>0x13e382dfe53207e9ce2eeeab330f69da2794179e</td>\n",
       "      <td>2022-06-25 00:17:10</td>\n",
       "      <td>4.867078e+06</td>\n",
       "      <td>2.742179e+07</td>\n",
       "      <td>0.177489</td>\n",
       "    </tr>\n",
       "    <tr>\n",
       "      <th>556</th>\n",
       "      <td>0xdc77b2c59db1b02f988e8e08a60fbe9139447cc3</td>\n",
       "      <td>2022-08-13 18:27:10</td>\n",
       "      <td>3.490881e+06</td>\n",
       "      <td>5.992164e+06</td>\n",
       "      <td>0.582574</td>\n",
       "    </tr>\n",
       "    <tr>\n",
       "      <th>996</th>\n",
       "      <td>0xa5d223c176daab154a3134369d1c0478c5e6fecf</td>\n",
       "      <td>2021-05-30 13:36:56</td>\n",
       "      <td>3.250865e+06</td>\n",
       "      <td>1.986928e+07</td>\n",
       "      <td>0.163613</td>\n",
       "    </tr>\n",
       "  </tbody>\n",
       "</table>\n",
       "</div>"
      ],
      "text/plain": [
       "                                           user        FirstDeposit  \\\n",
       "406  0x645c4c0c95c1aa6ef25d12f4a25038ca9b0c6cc7 2022-11-07 01:40:23   \n",
       "877  0xf89a2234f442ce862443f01c3998701a4cc4a3e3 2022-04-12 21:39:34   \n",
       "21   0x13e382dfe53207e9ce2eeeab330f69da2794179e 2022-06-25 00:17:10   \n",
       "556  0xdc77b2c59db1b02f988e8e08a60fbe9139447cc3 2022-08-13 18:27:10   \n",
       "996  0xa5d223c176daab154a3134369d1c0478c5e6fecf 2021-05-30 13:36:56   \n",
       "\n",
       "     totalTVLAAVE      totalTVL  Percent In AAVE  \n",
       "406  1.722756e+07  1.722756e+07         1.000000  \n",
       "877  6.302461e+06  6.302461e+06         1.000000  \n",
       "21   4.867078e+06  2.742179e+07         0.177489  \n",
       "556  3.490881e+06  5.992164e+06         0.582574  \n",
       "996  3.250865e+06  1.986928e+07         0.163613  "
      ]
     },
     "execution_count": 57,
     "metadata": {},
     "output_type": "execute_result"
    }
   ],
   "source": [
    "topUsers = df.nlargest(5,['totalTVLAAVE'])\n",
    "cols = ['user', 'FirstDeposit', 'totalTVLAAVE' ,'totalTVL', 'Percent In AAVE']\n",
    "topUsers[cols]"
   ]
  },
  {
   "cell_type": "code",
   "execution_count": 78,
   "id": "78b18b5d",
   "metadata": {},
   "outputs": [
    {
     "data": {
      "text/html": [
       "<div>\n",
       "<style scoped>\n",
       "    .dataframe tbody tr th:only-of-type {\n",
       "        vertical-align: middle;\n",
       "    }\n",
       "\n",
       "    .dataframe tbody tr th {\n",
       "        vertical-align: top;\n",
       "    }\n",
       "\n",
       "    .dataframe thead th {\n",
       "        text-align: right;\n",
       "    }\n",
       "</style>\n",
       "<table border=\"1\" class=\"dataframe\">\n",
       "  <thead>\n",
       "    <tr style=\"text-align: right;\">\n",
       "      <th></th>\n",
       "      <th>user</th>\n",
       "      <th>FirstDeposit</th>\n",
       "      <th>totalTVLAAVE</th>\n",
       "      <th>totalTVL</th>\n",
       "      <th>Percent In AAVE</th>\n",
       "    </tr>\n",
       "  </thead>\n",
       "  <tbody>\n",
       "    <tr>\n",
       "      <th>80</th>\n",
       "      <td>0x7a0af73e4c08a4a46513e8b7fea726fb8d499614</td>\n",
       "      <td>2022-10-04 20:26:59</td>\n",
       "      <td>0.188882</td>\n",
       "      <td>1.888820e-01</td>\n",
       "      <td>1.0</td>\n",
       "    </tr>\n",
       "    <tr>\n",
       "      <th>412</th>\n",
       "      <td>0x64bade3ea5ffc64cfb776f55cf82086b9429a5ee</td>\n",
       "      <td>2022-12-12 19:30:47</td>\n",
       "      <td>0.000000</td>\n",
       "      <td>7.573103e+01</td>\n",
       "      <td>0.0</td>\n",
       "    </tr>\n",
       "    <tr>\n",
       "      <th>561</th>\n",
       "      <td>0xd35db3b19c8c2a60b8613e5b30aadcd290c99e75</td>\n",
       "      <td>2022-09-30 23:18:59</td>\n",
       "      <td>0.000000</td>\n",
       "      <td>1.466090e+06</td>\n",
       "      <td>0.0</td>\n",
       "    </tr>\n",
       "    <tr>\n",
       "      <th>783</th>\n",
       "      <td>0x49ae763ed846db9a69a639732caa320fad1d5799</td>\n",
       "      <td>2022-10-06 16:13:23</td>\n",
       "      <td>0.000000</td>\n",
       "      <td>1.569588e+04</td>\n",
       "      <td>0.0</td>\n",
       "    </tr>\n",
       "  </tbody>\n",
       "</table>\n",
       "</div>"
      ],
      "text/plain": [
       "                                           user        FirstDeposit  \\\n",
       "80   0x7a0af73e4c08a4a46513e8b7fea726fb8d499614 2022-10-04 20:26:59   \n",
       "412  0x64bade3ea5ffc64cfb776f55cf82086b9429a5ee 2022-12-12 19:30:47   \n",
       "561  0xd35db3b19c8c2a60b8613e5b30aadcd290c99e75 2022-09-30 23:18:59   \n",
       "783  0x49ae763ed846db9a69a639732caa320fad1d5799 2022-10-06 16:13:23   \n",
       "\n",
       "     totalTVLAAVE      totalTVL  Percent In AAVE  \n",
       "80       0.188882  1.888820e-01              1.0  \n",
       "412      0.000000  7.573103e+01              0.0  \n",
       "561      0.000000  1.466090e+06              0.0  \n",
       "783      0.000000  1.569588e+04              0.0  "
      ]
     },
     "execution_count": 78,
     "metadata": {},
     "output_type": "execute_result"
    }
   ],
   "source": [
    "df[df.user.isin(lostUsers)][cols]"
   ]
  },
  {
   "cell_type": "code",
   "execution_count": 79,
   "id": "7030d2ed",
   "metadata": {},
   "outputs": [
    {
     "data": {
      "text/html": [
       "<div>\n",
       "<style scoped>\n",
       "    .dataframe tbody tr th:only-of-type {\n",
       "        vertical-align: middle;\n",
       "    }\n",
       "\n",
       "    .dataframe tbody tr th {\n",
       "        vertical-align: top;\n",
       "    }\n",
       "\n",
       "    .dataframe thead th {\n",
       "        text-align: right;\n",
       "    }\n",
       "</style>\n",
       "<table border=\"1\" class=\"dataframe\">\n",
       "  <thead>\n",
       "    <tr style=\"text-align: right;\">\n",
       "      <th></th>\n",
       "      <th>user</th>\n",
       "      <th>FirstDeposit</th>\n",
       "      <th>totalTVLAAVE</th>\n",
       "      <th>totalTVL</th>\n",
       "      <th>Percent In AAVE</th>\n",
       "    </tr>\n",
       "  </thead>\n",
       "  <tbody>\n",
       "    <tr>\n",
       "      <th>357</th>\n",
       "      <td>0xf7626459234e9249808a06aa08dc6b67c8e0a2fc</td>\n",
       "      <td>2022-11-14 17:41:47</td>\n",
       "      <td>1.613568e-15</td>\n",
       "      <td>2.807902e+06</td>\n",
       "      <td>5.746526e-22</td>\n",
       "    </tr>\n",
       "    <tr>\n",
       "      <th>406</th>\n",
       "      <td>0x645c4c0c95c1aa6ef25d12f4a25038ca9b0c6cc7</td>\n",
       "      <td>2022-11-07 01:40:23</td>\n",
       "      <td>1.722756e+07</td>\n",
       "      <td>1.722756e+07</td>\n",
       "      <td>1.000000e+00</td>\n",
       "    </tr>\n",
       "    <tr>\n",
       "      <th>478</th>\n",
       "      <td>0x42c0eeb504d374d7cff5865c982cee7d4a59d77e</td>\n",
       "      <td>2022-11-24 03:59:47</td>\n",
       "      <td>1.170800e-02</td>\n",
       "      <td>1.170800e-02</td>\n",
       "      <td>1.000000e+00</td>\n",
       "    </tr>\n",
       "    <tr>\n",
       "      <th>518</th>\n",
       "      <td>0x064d3230f753d8c14e06cf491fe2f1a3d2ccd5dd</td>\n",
       "      <td>2022-11-13 21:35:23</td>\n",
       "      <td>1.017033e+05</td>\n",
       "      <td>1.747232e+05</td>\n",
       "      <td>5.820827e-01</td>\n",
       "    </tr>\n",
       "    <tr>\n",
       "      <th>587</th>\n",
       "      <td>0x63158ffa98f89a49a50a6e70279d8fc55692daed</td>\n",
       "      <td>2022-11-05 17:46:23</td>\n",
       "      <td>6.038481e+05</td>\n",
       "      <td>6.038481e+05</td>\n",
       "      <td>1.000000e+00</td>\n",
       "    </tr>\n",
       "    <tr>\n",
       "      <th>667</th>\n",
       "      <td>0x096232202dd7b86fddff038189dfe0f1861bb028</td>\n",
       "      <td>2022-10-05 15:19:23</td>\n",
       "      <td>5.228891e+05</td>\n",
       "      <td>5.234382e+05</td>\n",
       "      <td>9.989510e-01</td>\n",
       "    </tr>\n",
       "    <tr>\n",
       "      <th>917</th>\n",
       "      <td>0x0960cbefa076b248664c079174126ff9554ce809</td>\n",
       "      <td>2022-12-03 08:24:35</td>\n",
       "      <td>1.776000e-02</td>\n",
       "      <td>6.143192e+00</td>\n",
       "      <td>2.891005e-03</td>\n",
       "    </tr>\n",
       "  </tbody>\n",
       "</table>\n",
       "</div>"
      ],
      "text/plain": [
       "                                           user        FirstDeposit  \\\n",
       "357  0xf7626459234e9249808a06aa08dc6b67c8e0a2fc 2022-11-14 17:41:47   \n",
       "406  0x645c4c0c95c1aa6ef25d12f4a25038ca9b0c6cc7 2022-11-07 01:40:23   \n",
       "478  0x42c0eeb504d374d7cff5865c982cee7d4a59d77e 2022-11-24 03:59:47   \n",
       "518  0x064d3230f753d8c14e06cf491fe2f1a3d2ccd5dd 2022-11-13 21:35:23   \n",
       "587  0x63158ffa98f89a49a50a6e70279d8fc55692daed 2022-11-05 17:46:23   \n",
       "667  0x096232202dd7b86fddff038189dfe0f1861bb028 2022-10-05 15:19:23   \n",
       "917  0x0960cbefa076b248664c079174126ff9554ce809 2022-12-03 08:24:35   \n",
       "\n",
       "     totalTVLAAVE      totalTVL  Percent In AAVE  \n",
       "357  1.613568e-15  2.807902e+06     5.746526e-22  \n",
       "406  1.722756e+07  1.722756e+07     1.000000e+00  \n",
       "478  1.170800e-02  1.170800e-02     1.000000e+00  \n",
       "518  1.017033e+05  1.747232e+05     5.820827e-01  \n",
       "587  6.038481e+05  6.038481e+05     1.000000e+00  \n",
       "667  5.228891e+05  5.234382e+05     9.989510e-01  \n",
       "917  1.776000e-02  6.143192e+00     2.891005e-03  "
      ]
     },
     "execution_count": 79,
     "metadata": {},
     "output_type": "execute_result"
    }
   ],
   "source": [
    "df[df.user.isin(newUsers)][cols]"
   ]
  },
  {
   "cell_type": "code",
   "execution_count": 58,
   "id": "e7b056e8",
   "metadata": {},
   "outputs": [
    {
     "data": {
      "text/plain": [
       "<matplotlib.collections.PathCollection at 0x7f7da8c6b970>"
      ]
     },
     "execution_count": 58,
     "metadata": {},
     "output_type": "execute_result"
    },
    {
     "data": {
      "image/png": "[encoded data removed]",
      "text/plain": [
       "<Figure size 432x288 with 1 Axes>"
      ]
     },
     "metadata": {
      "needs_background": "light"
     },
     "output_type": "display_data"
    }
   ],
   "source": [
    "plt.scatter(reducedDf['totalTVL'], reducedDf['Percent In AAVE'])"
   ]
  },
  {
   "cell_type": "code",
   "execution_count": 59,
   "id": "87978353",
   "metadata": {},
   "outputs": [
    {
     "data": {
      "text/plain": [
       "(array([89.,  8.,  7.,  6.,  4.,  2.,  2.,  5.,  3., 26.]),\n",
       " array([0. , 0.1, 0.2, 0.3, 0.4, 0.5, 0.6, 0.7, 0.8, 0.9, 1. ]),\n",
       " <BarContainer object of 10 artists>)"
      ]
     },
     "execution_count": 59,
     "metadata": {},
     "output_type": "execute_result"
    },
    {
     "data": {
      "image/png": "[encoded data removed]",
      "text/plain": [
       "<Figure size 432x288 with 1 Axes>"
      ]
     },
     "metadata": {
      "needs_background": "light"
     },
     "output_type": "display_data"
    }
   ],
   "source": [
    "plt.hist(reducedDf['Percent In AAVE'])"
   ]
  },
  {
   "cell_type": "code",
   "execution_count": 60,
   "id": "ff7e7cde",
   "metadata": {},
   "outputs": [
    {
     "data": {
      "text/plain": [
       "['0xf7626459234e9249808a06aa08dc6b67c8e0a2fc',\n",
       " '0x645c4c0c95c1aa6ef25d12f4a25038ca9b0c6cc7',\n",
       " '0x42c0eeb504d374d7cff5865c982cee7d4a59d77e',\n",
       " '0x064d3230f753d8c14e06cf491fe2f1a3d2ccd5dd',\n",
       " '0x63158ffa98f89a49a50a6e70279d8fc55692daed',\n",
       " '0x096232202dd7b86fddff038189dfe0f1861bb028',\n",
       " '0x0960cbefa076b248664c079174126ff9554ce809']"
      ]
     },
     "execution_count": 60,
     "metadata": {},
     "output_type": "execute_result"
    }
   ],
   "source": [
    "newUsers"
   ]
  },
  {
   "cell_type": "code",
   "execution_count": 61,
   "id": "9cbf90fa",
   "metadata": {},
   "outputs": [],
   "source": [
    "otherApps = list(userDf['Name'].unique())\n",
    "\n",
    "exclude = ['Aave V2', 'Aave V3']\n",
    "for item in exclude : \n",
    "    otherApps.remove(item)\n",
    "\n",
    "compDf = pd.DataFrame({'Name' : otherApps})\n",
    "\n",
    "lostUserDf = userDf[userDf.User.isin(lostUsers)]\n",
    "newUserDf = userDf[userDf.User.isin(newUsers)]\n"
   ]
  },
  {
   "cell_type": "code",
   "execution_count": 73,
   "id": "35e012ab",
   "metadata": {},
   "outputs": [
    {
     "data": {
      "text/plain": [
       "<function __main__.lostUsers(row)>"
      ]
     },
     "execution_count": 73,
     "metadata": {},
     "output_type": "execute_result"
    }
   ],
   "source": [
    "lostUsers"
   ]
  },
  {
   "cell_type": "code",
   "execution_count": 86,
   "id": "034aaa64",
   "metadata": {},
   "outputs": [
    {
     "data": {
      "text/html": [
       "<div>\n",
       "<style scoped>\n",
       "    .dataframe tbody tr th:only-of-type {\n",
       "        vertical-align: middle;\n",
       "    }\n",
       "\n",
       "    .dataframe tbody tr th {\n",
       "        vertical-align: top;\n",
       "    }\n",
       "\n",
       "    .dataframe thead th {\n",
       "        text-align: right;\n",
       "    }\n",
       "</style>\n",
       "<table border=\"1\" class=\"dataframe\">\n",
       "  <thead>\n",
       "    <tr style=\"text-align: right;\">\n",
       "      <th></th>\n",
       "      <th>Name</th>\n",
       "      <th>TVLFromSharedUsers</th>\n",
       "      <th>nUsers</th>\n",
       "      <th>tvlInAAVE</th>\n",
       "      <th>lostTVL</th>\n",
       "      <th>compTVLGained</th>\n",
       "      <th>lostUsers</th>\n",
       "      <th>newUsers</th>\n",
       "      <th>compTVLLost</th>\n",
       "      <th>compTVLNew</th>\n",
       "    </tr>\n",
       "  </thead>\n",
       "  <tbody>\n",
       "    <tr>\n",
       "      <th>0</th>\n",
       "      <td>GMX</td>\n",
       "      <td>3.155064e+05</td>\n",
       "      <td>149</td>\n",
       "      <td>208676.485661</td>\n",
       "      <td>0.000000e+00</td>\n",
       "      <td>0.000000</td>\n",
       "      <td>0</td>\n",
       "      <td>0</td>\n",
       "      <td>0.0</td>\n",
       "      <td>0.0</td>\n",
       "    </tr>\n",
       "    <tr>\n",
       "      <th>1</th>\n",
       "      <td>Wonderland</td>\n",
       "      <td>2.117823e+05</td>\n",
       "      <td>63</td>\n",
       "      <td>598416.167394</td>\n",
       "      <td>0.000000e+00</td>\n",
       "      <td>0.000000</td>\n",
       "      <td>0</td>\n",
       "      <td>0</td>\n",
       "      <td>0.0</td>\n",
       "      <td>0.0</td>\n",
       "    </tr>\n",
       "    <tr>\n",
       "      <th>2</th>\n",
       "      <td>Venus</td>\n",
       "      <td>2.006059e+05</td>\n",
       "      <td>53</td>\n",
       "      <td>181617.447387</td>\n",
       "      <td>3.582859e+06</td>\n",
       "      <td>84016.051002</td>\n",
       "      <td>2</td>\n",
       "      <td>0</td>\n",
       "      <td>0.0</td>\n",
       "      <td>0.0</td>\n",
       "    </tr>\n",
       "    <tr>\n",
       "      <th>3</th>\n",
       "      <td>Adamant</td>\n",
       "      <td>1.810417e+03</td>\n",
       "      <td>21</td>\n",
       "      <td>12724.704626</td>\n",
       "      <td>0.000000e+00</td>\n",
       "      <td>0.000000</td>\n",
       "      <td>0</td>\n",
       "      <td>0</td>\n",
       "      <td>0.0</td>\n",
       "      <td>0.0</td>\n",
       "    </tr>\n",
       "    <tr>\n",
       "      <th>4</th>\n",
       "      <td>Klima DAO</td>\n",
       "      <td>2.861680e+03</td>\n",
       "      <td>81</td>\n",
       "      <td>15431.465657</td>\n",
       "      <td>0.000000e+00</td>\n",
       "      <td>0.000000</td>\n",
       "      <td>0</td>\n",
       "      <td>0</td>\n",
       "      <td>0.0</td>\n",
       "      <td>0.0</td>\n",
       "    </tr>\n",
       "    <tr>\n",
       "      <th>...</th>\n",
       "      <td>...</td>\n",
       "      <td>...</td>\n",
       "      <td>...</td>\n",
       "      <td>...</td>\n",
       "      <td>...</td>\n",
       "      <td>...</td>\n",
       "      <td>...</td>\n",
       "      <td>...</td>\n",
       "      <td>...</td>\n",
       "      <td>...</td>\n",
       "    </tr>\n",
       "    <tr>\n",
       "      <th>548</th>\n",
       "      <td>Voltage</td>\n",
       "      <td>2.649618e-06</td>\n",
       "      <td>1</td>\n",
       "      <td>0.000000</td>\n",
       "      <td>0.000000e+00</td>\n",
       "      <td>0.000000</td>\n",
       "      <td>0</td>\n",
       "      <td>0</td>\n",
       "      <td>0.0</td>\n",
       "      <td>0.0</td>\n",
       "    </tr>\n",
       "    <tr>\n",
       "      <th>549</th>\n",
       "      <td>Unifi Protocol</td>\n",
       "      <td>6.376570e-06</td>\n",
       "      <td>1</td>\n",
       "      <td>0.000000</td>\n",
       "      <td>0.000000e+00</td>\n",
       "      <td>0.000000</td>\n",
       "      <td>0</td>\n",
       "      <td>0</td>\n",
       "      <td>0.0</td>\n",
       "      <td>0.0</td>\n",
       "    </tr>\n",
       "    <tr>\n",
       "      <th>550</th>\n",
       "      <td>Dot Dot Finance</td>\n",
       "      <td>7.528391e+01</td>\n",
       "      <td>1</td>\n",
       "      <td>46.555261</td>\n",
       "      <td>0.000000e+00</td>\n",
       "      <td>0.000000</td>\n",
       "      <td>0</td>\n",
       "      <td>0</td>\n",
       "      <td>0.0</td>\n",
       "      <td>0.0</td>\n",
       "    </tr>\n",
       "    <tr>\n",
       "      <th>551</th>\n",
       "      <td>Valas</td>\n",
       "      <td>2.480448e-01</td>\n",
       "      <td>1</td>\n",
       "      <td>46.555261</td>\n",
       "      <td>0.000000e+00</td>\n",
       "      <td>0.000000</td>\n",
       "      <td>0</td>\n",
       "      <td>0</td>\n",
       "      <td>0.0</td>\n",
       "      <td>0.0</td>\n",
       "    </tr>\n",
       "    <tr>\n",
       "      <th>552</th>\n",
       "      <td>Rally</td>\n",
       "      <td>7.255349e-14</td>\n",
       "      <td>1</td>\n",
       "      <td>0.000000</td>\n",
       "      <td>0.000000e+00</td>\n",
       "      <td>0.000000</td>\n",
       "      <td>0</td>\n",
       "      <td>0</td>\n",
       "      <td>0.0</td>\n",
       "      <td>0.0</td>\n",
       "    </tr>\n",
       "  </tbody>\n",
       "</table>\n",
       "<p>553 rows × 10 columns</p>\n",
       "</div>"
      ],
      "text/plain": [
       "                Name  TVLFromSharedUsers  nUsers      tvlInAAVE       lostTVL  \\\n",
       "0                GMX        3.155064e+05     149  208676.485661  0.000000e+00   \n",
       "1         Wonderland        2.117823e+05      63  598416.167394  0.000000e+00   \n",
       "2              Venus        2.006059e+05      53  181617.447387  3.582859e+06   \n",
       "3            Adamant        1.810417e+03      21   12724.704626  0.000000e+00   \n",
       "4         Klima DAO         2.861680e+03      81   15431.465657  0.000000e+00   \n",
       "..               ...                 ...     ...            ...           ...   \n",
       "548          Voltage        2.649618e-06       1       0.000000  0.000000e+00   \n",
       "549   Unifi Protocol        6.376570e-06       1       0.000000  0.000000e+00   \n",
       "550  Dot Dot Finance        7.528391e+01       1      46.555261  0.000000e+00   \n",
       "551            Valas        2.480448e-01       1      46.555261  0.000000e+00   \n",
       "552            Rally        7.255349e-14       1       0.000000  0.000000e+00   \n",
       "\n",
       "     compTVLGained  lostUsers  newUsers  compTVLLost  compTVLNew  \n",
       "0         0.000000          0         0          0.0         0.0  \n",
       "1         0.000000          0         0          0.0         0.0  \n",
       "2     84016.051002          2         0          0.0         0.0  \n",
       "3         0.000000          0         0          0.0         0.0  \n",
       "4         0.000000          0         0          0.0         0.0  \n",
       "..             ...        ...       ...          ...         ...  \n",
       "548       0.000000          0         0          0.0         0.0  \n",
       "549       0.000000          0         0          0.0         0.0  \n",
       "550       0.000000          0         0          0.0         0.0  \n",
       "551       0.000000          0         0          0.0         0.0  \n",
       "552       0.000000          0         0          0.0         0.0  \n",
       "\n",
       "[553 rows x 10 columns]"
      ]
     },
     "execution_count": 86,
     "metadata": {},
     "output_type": "execute_result"
    }
   ],
   "source": [
    "compDf"
   ]
  },
  {
   "cell_type": "code",
   "execution_count": 80,
   "id": "a193d520",
   "metadata": {},
   "outputs": [
    {
     "data": {
      "text/html": [
       "<div>\n",
       "<style scoped>\n",
       "    .dataframe tbody tr th:only-of-type {\n",
       "        vertical-align: middle;\n",
       "    }\n",
       "\n",
       "    .dataframe tbody tr th {\n",
       "        vertical-align: top;\n",
       "    }\n",
       "\n",
       "    .dataframe thead th {\n",
       "        text-align: right;\n",
       "    }\n",
       "</style>\n",
       "<table border=\"1\" class=\"dataframe\">\n",
       "  <thead>\n",
       "    <tr style=\"text-align: right;\">\n",
       "      <th></th>\n",
       "      <th>Unnamed: 0</th>\n",
       "      <th>user</th>\n",
       "      <th>FirstDeposit</th>\n",
       "      <th>FirstBorrow</th>\n",
       "      <th>LastWithdraw</th>\n",
       "      <th>LastLiquidation</th>\n",
       "      <th>TotalUSDSupplied</th>\n",
       "      <th>TotalDepositsWETH</th>\n",
       "      <th>TotalWithdrawalsWETH</th>\n",
       "      <th>TotalLiquidationsWETH</th>\n",
       "      <th>...</th>\n",
       "      <th>Total CollateralLUSD</th>\n",
       "      <th>Total Collateral USDLUSD</th>\n",
       "      <th>Total Collateral USD</th>\n",
       "      <th>End Date</th>\n",
       "      <th>TotalDaysSinceEntry</th>\n",
       "      <th>DaysUntilExit</th>\n",
       "      <th>Exit</th>\n",
       "      <th>totalTVL</th>\n",
       "      <th>totalTVLAAVE</th>\n",
       "      <th>Percent In AAVE</th>\n",
       "    </tr>\n",
       "  </thead>\n",
       "  <tbody>\n",
       "    <tr>\n",
       "      <th>80</th>\n",
       "      <td>80</td>\n",
       "      <td>0x7a0af73e4c08a4a46513e8b7fea726fb8d499614</td>\n",
       "      <td>2022-10-04 20:26:59</td>\n",
       "      <td>2022-10-04 20:26:59</td>\n",
       "      <td>2022-11-08 23:16:35</td>\n",
       "      <td>NaN</td>\n",
       "      <td>7.727655e+05</td>\n",
       "      <td>0.00</td>\n",
       "      <td>0.000000</td>\n",
       "      <td>0.0</td>\n",
       "      <td>...</td>\n",
       "      <td>0.0</td>\n",
       "      <td>0.0</td>\n",
       "      <td>-3588.055189</td>\n",
       "      <td>2022-12-31 23:59:11</td>\n",
       "      <td>88</td>\n",
       "      <td>35.0</td>\n",
       "      <td>True</td>\n",
       "      <td>1.888820e-01</td>\n",
       "      <td>0.188882</td>\n",
       "      <td>1.0</td>\n",
       "    </tr>\n",
       "    <tr>\n",
       "      <th>412</th>\n",
       "      <td>412</td>\n",
       "      <td>0x64bade3ea5ffc64cfb776f55cf82086b9429a5ee</td>\n",
       "      <td>2022-12-12 19:30:47</td>\n",
       "      <td>2022-12-12 19:30:47</td>\n",
       "      <td>2022-12-31 00:34:23</td>\n",
       "      <td>NaN</td>\n",
       "      <td>6.652763e+05</td>\n",
       "      <td>0.00</td>\n",
       "      <td>0.000000</td>\n",
       "      <td>0.0</td>\n",
       "      <td>...</td>\n",
       "      <td>0.0</td>\n",
       "      <td>0.0</td>\n",
       "      <td>-388.039204</td>\n",
       "      <td>2022-12-31 23:59:11</td>\n",
       "      <td>19</td>\n",
       "      <td>18.0</td>\n",
       "      <td>True</td>\n",
       "      <td>7.573103e+01</td>\n",
       "      <td>0.000000</td>\n",
       "      <td>0.0</td>\n",
       "    </tr>\n",
       "    <tr>\n",
       "      <th>561</th>\n",
       "      <td>561</td>\n",
       "      <td>0xd35db3b19c8c2a60b8613e5b30aadcd290c99e75</td>\n",
       "      <td>2022-09-30 23:18:59</td>\n",
       "      <td>2022-09-30 23:18:59</td>\n",
       "      <td>2022-11-04 04:36:47</td>\n",
       "      <td>NaN</td>\n",
       "      <td>2.917583e+06</td>\n",
       "      <td>560.75</td>\n",
       "      <td>560.829691</td>\n",
       "      <td>0.0</td>\n",
       "      <td>...</td>\n",
       "      <td>0.0</td>\n",
       "      <td>0.0</td>\n",
       "      <td>-333.628124</td>\n",
       "      <td>2022-12-31 23:59:11</td>\n",
       "      <td>92</td>\n",
       "      <td>34.0</td>\n",
       "      <td>True</td>\n",
       "      <td>1.466090e+06</td>\n",
       "      <td>0.000000</td>\n",
       "      <td>0.0</td>\n",
       "    </tr>\n",
       "    <tr>\n",
       "      <th>783</th>\n",
       "      <td>783</td>\n",
       "      <td>0x49ae763ed846db9a69a639732caa320fad1d5799</td>\n",
       "      <td>2022-10-06 16:13:23</td>\n",
       "      <td>2022-10-06 16:13:23</td>\n",
       "      <td>2022-11-09 00:29:59</td>\n",
       "      <td>NaN</td>\n",
       "      <td>9.364006e+06</td>\n",
       "      <td>0.00</td>\n",
       "      <td>0.000000</td>\n",
       "      <td>0.0</td>\n",
       "      <td>...</td>\n",
       "      <td>0.0</td>\n",
       "      <td>0.0</td>\n",
       "      <td>-587.456076</td>\n",
       "      <td>2022-12-31 23:59:11</td>\n",
       "      <td>86</td>\n",
       "      <td>33.0</td>\n",
       "      <td>True</td>\n",
       "      <td>1.569588e+04</td>\n",
       "      <td>0.000000</td>\n",
       "      <td>0.0</td>\n",
       "    </tr>\n",
       "  </tbody>\n",
       "</table>\n",
       "<p>4 rows × 274 columns</p>\n",
       "</div>"
      ],
      "text/plain": [
       "     Unnamed: 0                                        user  \\\n",
       "80           80  0x7a0af73e4c08a4a46513e8b7fea726fb8d499614   \n",
       "412         412  0x64bade3ea5ffc64cfb776f55cf82086b9429a5ee   \n",
       "561         561  0xd35db3b19c8c2a60b8613e5b30aadcd290c99e75   \n",
       "783         783  0x49ae763ed846db9a69a639732caa320fad1d5799   \n",
       "\n",
       "           FirstDeposit          FirstBorrow        LastWithdraw  \\\n",
       "80  2022-10-04 20:26:59  2022-10-04 20:26:59 2022-11-08 23:16:35   \n",
       "412 2022-12-12 19:30:47  2022-12-12 19:30:47 2022-12-31 00:34:23   \n",
       "561 2022-09-30 23:18:59  2022-09-30 23:18:59 2022-11-04 04:36:47   \n",
       "783 2022-10-06 16:13:23  2022-10-06 16:13:23 2022-11-09 00:29:59   \n",
       "\n",
       "    LastLiquidation  TotalUSDSupplied  TotalDepositsWETH  \\\n",
       "80              NaN      7.727655e+05               0.00   \n",
       "412             NaN      6.652763e+05               0.00   \n",
       "561             NaN      2.917583e+06             560.75   \n",
       "783             NaN      9.364006e+06               0.00   \n",
       "\n",
       "     TotalWithdrawalsWETH  TotalLiquidationsWETH  ...  Total CollateralLUSD  \\\n",
       "80               0.000000                    0.0  ...                   0.0   \n",
       "412              0.000000                    0.0  ...                   0.0   \n",
       "561            560.829691                    0.0  ...                   0.0   \n",
       "783              0.000000                    0.0  ...                   0.0   \n",
       "\n",
       "     Total Collateral USDLUSD  Total Collateral USD             End Date  \\\n",
       "80                        0.0          -3588.055189  2022-12-31 23:59:11   \n",
       "412                       0.0           -388.039204  2022-12-31 23:59:11   \n",
       "561                       0.0           -333.628124  2022-12-31 23:59:11   \n",
       "783                       0.0           -587.456076  2022-12-31 23:59:11   \n",
       "\n",
       "     TotalDaysSinceEntry  DaysUntilExit  Exit      totalTVL  totalTVLAAVE  \\\n",
       "80                    88           35.0  True  1.888820e-01      0.188882   \n",
       "412                   19           18.0  True  7.573103e+01      0.000000   \n",
       "561                   92           34.0  True  1.466090e+06      0.000000   \n",
       "783                   86           33.0  True  1.569588e+04      0.000000   \n",
       "\n",
       "     Percent In AAVE  \n",
       "80               1.0  \n",
       "412              0.0  \n",
       "561              0.0  \n",
       "783              0.0  \n",
       "\n",
       "[4 rows x 274 columns]"
      ]
     },
     "execution_count": 80,
     "metadata": {},
     "output_type": "execute_result"
    }
   ],
   "source": [
    "df[df.user.isin(lostUsers)]"
   ]
  },
  {
   "cell_type": "code",
   "execution_count": 81,
   "id": "5212a5c6",
   "metadata": {},
   "outputs": [
    {
     "data": {
      "text/html": [
       "<div>\n",
       "<style scoped>\n",
       "    .dataframe tbody tr th:only-of-type {\n",
       "        vertical-align: middle;\n",
       "    }\n",
       "\n",
       "    .dataframe tbody tr th {\n",
       "        vertical-align: top;\n",
       "    }\n",
       "\n",
       "    .dataframe thead th {\n",
       "        text-align: right;\n",
       "    }\n",
       "</style>\n",
       "<table border=\"1\" class=\"dataframe\">\n",
       "  <thead>\n",
       "    <tr style=\"text-align: right;\">\n",
       "      <th></th>\n",
       "      <th>Unnamed: 0</th>\n",
       "      <th>User</th>\n",
       "      <th>Name</th>\n",
       "      <th>Chain</th>\n",
       "      <th>Value</th>\n",
       "    </tr>\n",
       "  </thead>\n",
       "  <tbody>\n",
       "    <tr>\n",
       "      <th>5226</th>\n",
       "      <td>5226</td>\n",
       "      <td>0xd35db3b19c8c2a60b8613e5b30aadcd290c99e75</td>\n",
       "      <td>GrizzlyFi</td>\n",
       "      <td>bsc</td>\n",
       "      <td>920688.112760</td>\n",
       "    </tr>\n",
       "    <tr>\n",
       "      <th>5231</th>\n",
       "      <td>5231</td>\n",
       "      <td>0xd35db3b19c8c2a60b8613e5b30aadcd290c99e75</td>\n",
       "      <td>Geist</td>\n",
       "      <td>ftm</td>\n",
       "      <td>461379.629425</td>\n",
       "    </tr>\n",
       "    <tr>\n",
       "      <th>5227</th>\n",
       "      <td>5227</td>\n",
       "      <td>0xd35db3b19c8c2a60b8613e5b30aadcd290c99e75</td>\n",
       "      <td>Venus</td>\n",
       "      <td>bsc</td>\n",
       "      <td>84016.050593</td>\n",
       "    </tr>\n",
       "    <tr>\n",
       "      <th>6992</th>\n",
       "      <td>6992</td>\n",
       "      <td>0x49ae763ed846db9a69a639732caa320fad1d5799</td>\n",
       "      <td>Convex</td>\n",
       "      <td>eth</td>\n",
       "      <td>12325.918568</td>\n",
       "    </tr>\n",
       "    <tr>\n",
       "      <th>6989</th>\n",
       "      <td>6989</td>\n",
       "      <td>0x49ae763ed846db9a69a639732caa320fad1d5799</td>\n",
       "      <td>Aave V3</td>\n",
       "      <td>avax</td>\n",
       "      <td>3369.748955</td>\n",
       "    </tr>\n",
       "  </tbody>\n",
       "</table>\n",
       "</div>"
      ],
      "text/plain": [
       "      Unnamed: 0                                        User       Name Chain  \\\n",
       "5226        5226  0xd35db3b19c8c2a60b8613e5b30aadcd290c99e75  GrizzlyFi   bsc   \n",
       "5231        5231  0xd35db3b19c8c2a60b8613e5b30aadcd290c99e75      Geist   ftm   \n",
       "5227        5227  0xd35db3b19c8c2a60b8613e5b30aadcd290c99e75      Venus   bsc   \n",
       "6992        6992  0x49ae763ed846db9a69a639732caa320fad1d5799     Convex   eth   \n",
       "6989        6989  0x49ae763ed846db9a69a639732caa320fad1d5799    Aave V3  avax   \n",
       "\n",
       "              Value  \n",
       "5226  920688.112760  \n",
       "5231  461379.629425  \n",
       "5227   84016.050593  \n",
       "6992   12325.918568  \n",
       "6989    3369.748955  "
      ]
     },
     "execution_count": 81,
     "metadata": {},
     "output_type": "execute_result"
    }
   ],
   "source": [
    "lostUserDf.nlargest(5, ['Value'])"
   ]
  },
  {
   "cell_type": "code",
   "execution_count": 65,
   "id": "383a2373",
   "metadata": {},
   "outputs": [],
   "source": [
    "def compTVL(row):\n",
    "    return userDf[userDf.Name == row['Name']]['Value'].sum()\n",
    "\n",
    "def compUsers(row):\n",
    "    return len(userDf[userDf.Name == row['Name']])\n",
    "\n",
    "def tvlInAAVE(row):\n",
    "    userList = list(userDf[userDf.Name == row['Name']]['User'])\n",
    "    return userDf[(userDf.User.isin(userList)) & (userDf.Name.isin(exclude))]['Value'].sum()\n",
    "\n",
    "def lostTVL(row): \n",
    "    userList = list(lostUserDf[lostUserDf.Name == row['Name']]['User'])\n",
    "    return df[(df.user.isin(userList))]['TotalUSDSupplied'].sum()\n",
    "    \n",
    "def compTVLGained(row):    \n",
    "    return lostUserDf[lostUserDf.Name == row['Name']]['Value'].sum()\n",
    "    \n",
    "def lostUsers(row):\n",
    "    return len(lostUserDf[lostUserDf.Name == row['Name']])\n",
    "    \n",
    "\n",
    "def compTVLLost(row):    \n",
    "    return newUserDf[newUserDf.Name == row['Name']]['Value'].sum()\n",
    "    \n",
    "def countNewUsers(row):\n",
    "    return len(newUserDf[newUserDf.Name == row['Name']])\n",
    "        \n",
    "    \n",
    "    \n",
    "compDf['TVLFromSharedUsers'] =  compDf.apply(compTVL, axis=1)      \n",
    "compDf['nUsers'] =  compDf.apply(compUsers, axis=1)      \n",
    "compDf['tvlInAAVE'] = compDf.apply(tvlInAAVE, axis=1) \n",
    "\n",
    "compDf['lostTVL'] =  compDf.apply(lostTVL, axis=1) \n",
    "compDf['compTVLGained'] =  compDf.apply(compTVLGained, axis=1) \n",
    "compDf['lostUsers'] =  compDf.apply(lostUsers, axis=1) \n",
    "\n",
    "compDf['newUsers'] =  compDf.apply(countNewUsers, axis=1) \n",
    "compDf['compTVLNew'] =  compDf.apply(compTVLLost, axis=1) \n",
    "\n"
   ]
  },
  {
   "cell_type": "code",
   "execution_count": 30,
   "id": "8c6e90e5",
   "metadata": {},
   "outputs": [
    {
     "data": {
      "text/plain": [
       "<BarContainer object of 5 artists>"
      ]
     },
     "execution_count": 30,
     "metadata": {},
     "output_type": "execute_result"
    },
    {
     "data": {
      "image/png": "[encoded data removed]",
      "text/plain": [
       "<Figure size 432x288 with 1 Axes>"
      ]
     },
     "metadata": {
      "needs_background": "light"
     },
     "output_type": "display_data"
    }
   ],
   "source": [
    "# Of competitors what are N largest protocols that users are using (by TVL)\n",
    "largestComps = compDf.nlargest(5,['compTVLGained'])\n",
    "\n",
    "\n",
    "plt.bar(largestComps['Name'], largestComps['compTVLGained'])"
   ]
  },
  {
   "cell_type": "code",
   "execution_count": 34,
   "id": "ea11b2ce",
   "metadata": {},
   "outputs": [
    {
     "data": {
      "text/plain": [
       "<BarContainer object of 5 artists>"
      ]
     },
     "execution_count": 34,
     "metadata": {},
     "output_type": "execute_result"
    },
    {
     "data": {
      "image/png": "[encoded data removed]",
      "text/plain": [
       "<Figure size 432x288 with 1 Axes>"
      ]
     },
     "metadata": {
      "needs_background": "light"
     },
     "output_type": "display_data"
    }
   ],
   "source": [
    "# Of competitors what are N largest protocols that users are using (by TVL)\n",
    "largestComps = compDf.nlargest(5,['lostUsers'])\n",
    "\n",
    "\n",
    "plt.bar(largestComps['Name'], largestComps['lostUsers'])"
   ]
  },
  {
   "cell_type": "code",
   "execution_count": 66,
   "id": "6fefd03e",
   "metadata": {},
   "outputs": [
    {
     "data": {
      "text/plain": [
       "<BarContainer object of 5 artists>"
      ]
     },
     "execution_count": 66,
     "metadata": {},
     "output_type": "execute_result"
    },
    {
     "data": {
      "image/png": "[encoded data removed]",
      "text/plain": [
       "<Figure size 432x288 with 1 Axes>"
      ]
     },
     "metadata": {
      "needs_background": "light"
     },
     "output_type": "display_data"
    }
   ],
   "source": [
    "# From New Users What are Largest Protocols being Used \n",
    "largestComps = compDf.nlargest(5,['compTVLNew'])\n",
    "\n",
    "\n",
    "plt.bar(largestComps['Name'], largestComps['compTVLNew'])"
   ]
  },
  {
   "cell_type": "code",
   "execution_count": 67,
   "id": "6313f183",
   "metadata": {},
   "outputs": [
    {
     "data": {
      "text/plain": [
       "<BarContainer object of 5 artists>"
      ]
     },
     "execution_count": 67,
     "metadata": {},
     "output_type": "execute_result"
    },
    {
     "data": {
      "image/png": "[encoded data removed]",
      "text/plain": [
       "<Figure size 432x288 with 1 Axes>"
      ]
     },
     "metadata": {
      "needs_background": "light"
     },
     "output_type": "display_data"
    }
   ],
   "source": [
    "# OF new users what are most common apps being used\n",
    "largestComps = compDf.nlargest(5,['newUsers'])\n",
    "\n",
    "\n",
    "plt.bar(largestComps['Name'], largestComps['newUsers'])"
   ]
  },
  {
   "cell_type": "code",
   "execution_count": null,
   "id": "c8099d1f",
   "metadata": {},
   "outputs": [],
   "source": [
    "# Of competitors what are N largest protocols that users are using (by TVL)\n",
    "largestComps = compDf.nlargest(5,['lostUsers'])\n",
    "\n",
    "\n",
    "plt.bar(largestComps['Name'], largestComps['lostUsers'])"
   ]
  },
  {
   "cell_type": "code",
   "execution_count": 32,
   "id": "afd3745f",
   "metadata": {},
   "outputs": [
    {
     "data": {
      "text/plain": [
       "<BarContainer object of 5 artists>"
      ]
     },
     "execution_count": 32,
     "metadata": {},
     "output_type": "execute_result"
    },
    {
     "data": {
      "image/png": "[encoded data removed]",
      "text/plain": [
       "<Figure size 432x288 with 1 Axes>"
      ]
     },
     "metadata": {
      "needs_background": "light"
     },
     "output_type": "display_data"
    }
   ],
   "source": [
    "largestShared = compDf.nlargest(5,['TVLFromSharedUsers'])\n",
    "\n",
    "plt.bar(largestShared['Name'], largestShared['TVLFromSharedUsers'])"
   ]
  },
  {
   "cell_type": "code",
   "execution_count": 33,
   "id": "650e1eef",
   "metadata": {},
   "outputs": [
    {
     "data": {
      "text/plain": [
       "<BarContainer object of 5 artists>"
      ]
     },
     "execution_count": 33,
     "metadata": {},
     "output_type": "execute_result"
    },
    {
     "data": {
      "image/png": "[encoded data removed]",
      "text/plain": [
       "<Figure size 432x288 with 1 Axes>"
      ]
     },
     "metadata": {
      "needs_background": "light"
     },
     "output_type": "display_data"
    }
   ],
   "source": [
    "largestShared = compDf.nlargest(5,['nUsers'])\n",
    "\n",
    "plt.bar(largestShared['Name'], largestShared['nUsers'])"
   ]
  },
  {
   "cell_type": "code",
   "execution_count": 15,
   "id": "7e3559a6",
   "metadata": {
    "scrolled": true
   },
   "outputs": [
    {
     "data": {
      "text/plain": [
       "<BarContainer object of 2 artists>"
      ]
     },
     "execution_count": 15,
     "metadata": {},
     "output_type": "execute_result"
    },
    {
     "data": {
      "image/png": "[encoded data removed]",
      "text/plain": [
       "<Figure size 432x288 with 1 Axes>"
      ]
     },
     "metadata": {
      "needs_background": "light"
     },
     "output_type": "display_data"
    }
   ],
   "source": [
    "plt.bar(['New Users', 'Lost Users'], [len(newUsers), len(lostUsers)])"
   ]
  },
  {
   "cell_type": "code",
   "execution_count": 82,
   "id": "d6758af8",
   "metadata": {},
   "outputs": [
    {
     "data": {
      "text/html": [
       "<div>\n",
       "<style scoped>\n",
       "    .dataframe tbody tr th:only-of-type {\n",
       "        vertical-align: middle;\n",
       "    }\n",
       "\n",
       "    .dataframe tbody tr th {\n",
       "        vertical-align: top;\n",
       "    }\n",
       "\n",
       "    .dataframe thead th {\n",
       "        text-align: right;\n",
       "    }\n",
       "</style>\n",
       "<table border=\"1\" class=\"dataframe\">\n",
       "  <thead>\n",
       "    <tr style=\"text-align: right;\">\n",
       "      <th></th>\n",
       "      <th>Unnamed: 0</th>\n",
       "      <th>User</th>\n",
       "      <th>Name</th>\n",
       "      <th>Chain</th>\n",
       "      <th>Value</th>\n",
       "    </tr>\n",
       "  </thead>\n",
       "  <tbody>\n",
       "    <tr>\n",
       "      <th>521</th>\n",
       "      <td>521</td>\n",
       "      <td>0x7a0af73e4c08a4a46513e8b7fea726fb8d499614</td>\n",
       "      <td>Aave V2</td>\n",
       "      <td>eth</td>\n",
       "      <td>1.888820e-01</td>\n",
       "    </tr>\n",
       "    <tr>\n",
       "      <th>522</th>\n",
       "      <td>522</td>\n",
       "      <td>0x7a0af73e4c08a4a46513e8b7fea726fb8d499614</td>\n",
       "      <td>LIDO</td>\n",
       "      <td>eth</td>\n",
       "      <td>1.616860e-15</td>\n",
       "    </tr>\n",
       "    <tr>\n",
       "      <th>3898</th>\n",
       "      <td>3898</td>\n",
       "      <td>0x64bade3ea5ffc64cfb776f55cf82086b9429a5ee</td>\n",
       "      <td>Badger DAO</td>\n",
       "      <td>eth</td>\n",
       "      <td>6.364489e+01</td>\n",
       "    </tr>\n",
       "    <tr>\n",
       "      <th>3899</th>\n",
       "      <td>3899</td>\n",
       "      <td>0x64bade3ea5ffc64cfb776f55cf82086b9429a5ee</td>\n",
       "      <td>AutoFarm</td>\n",
       "      <td>boba</td>\n",
       "      <td>1.429303e-16</td>\n",
       "    </tr>\n",
       "    <tr>\n",
       "      <th>3900</th>\n",
       "      <td>3900</td>\n",
       "      <td>0x64bade3ea5ffc64cfb776f55cf82086b9429a5ee</td>\n",
       "      <td>Venus</td>\n",
       "      <td>bsc</td>\n",
       "      <td>4.086105e-04</td>\n",
       "    </tr>\n",
       "    <tr>\n",
       "      <th>3901</th>\n",
       "      <td>3901</td>\n",
       "      <td>0x64bade3ea5ffc64cfb776f55cf82086b9429a5ee</td>\n",
       "      <td>Compound</td>\n",
       "      <td>eth</td>\n",
       "      <td>8.623277e-01</td>\n",
       "    </tr>\n",
       "    <tr>\n",
       "      <th>3902</th>\n",
       "      <td>3902</td>\n",
       "      <td>0x64bade3ea5ffc64cfb776f55cf82086b9429a5ee</td>\n",
       "      <td>SpiritSwap</td>\n",
       "      <td>ftm</td>\n",
       "      <td>7.093745e+00</td>\n",
       "    </tr>\n",
       "    <tr>\n",
       "      <th>3903</th>\n",
       "      <td>3903</td>\n",
       "      <td>0x64bade3ea5ffc64cfb776f55cf82086b9429a5ee</td>\n",
       "      <td>Uniswap V2</td>\n",
       "      <td>eth</td>\n",
       "      <td>4.129660e+00</td>\n",
       "    </tr>\n",
       "    <tr>\n",
       "      <th>3904</th>\n",
       "      <td>3904</td>\n",
       "      <td>0x64bade3ea5ffc64cfb776f55cf82086b9429a5ee</td>\n",
       "      <td>xToken</td>\n",
       "      <td>eth</td>\n",
       "      <td>1.779806e-12</td>\n",
       "    </tr>\n",
       "    <tr>\n",
       "      <th>5226</th>\n",
       "      <td>5226</td>\n",
       "      <td>0xd35db3b19c8c2a60b8613e5b30aadcd290c99e75</td>\n",
       "      <td>GrizzlyFi</td>\n",
       "      <td>bsc</td>\n",
       "      <td>9.206881e+05</td>\n",
       "    </tr>\n",
       "    <tr>\n",
       "      <th>5227</th>\n",
       "      <td>5227</td>\n",
       "      <td>0xd35db3b19c8c2a60b8613e5b30aadcd290c99e75</td>\n",
       "      <td>Venus</td>\n",
       "      <td>bsc</td>\n",
       "      <td>8.401605e+04</td>\n",
       "    </tr>\n",
       "    <tr>\n",
       "      <th>5228</th>\n",
       "      <td>5228</td>\n",
       "      <td>0xd35db3b19c8c2a60b8613e5b30aadcd290c99e75</td>\n",
       "      <td>Compound</td>\n",
       "      <td>eth</td>\n",
       "      <td>6.657349e+00</td>\n",
       "    </tr>\n",
       "    <tr>\n",
       "      <th>5229</th>\n",
       "      <td>5229</td>\n",
       "      <td>0xd35db3b19c8c2a60b8613e5b30aadcd290c99e75</td>\n",
       "      <td>Damm Finance</td>\n",
       "      <td>eth</td>\n",
       "      <td>0.000000e+00</td>\n",
       "    </tr>\n",
       "    <tr>\n",
       "      <th>5230</th>\n",
       "      <td>5230</td>\n",
       "      <td>0xd35db3b19c8c2a60b8613e5b30aadcd290c99e75</td>\n",
       "      <td>DeFi Franc</td>\n",
       "      <td>eth</td>\n",
       "      <td>1.143865e-02</td>\n",
       "    </tr>\n",
       "    <tr>\n",
       "      <th>5231</th>\n",
       "      <td>5231</td>\n",
       "      <td>0xd35db3b19c8c2a60b8613e5b30aadcd290c99e75</td>\n",
       "      <td>Geist</td>\n",
       "      <td>ftm</td>\n",
       "      <td>4.613796e+05</td>\n",
       "    </tr>\n",
       "    <tr>\n",
       "      <th>6989</th>\n",
       "      <td>6989</td>\n",
       "      <td>0x49ae763ed846db9a69a639732caa320fad1d5799</td>\n",
       "      <td>Aave V3</td>\n",
       "      <td>avax</td>\n",
       "      <td>3.369749e+03</td>\n",
       "    </tr>\n",
       "    <tr>\n",
       "      <th>6990</th>\n",
       "      <td>6990</td>\n",
       "      <td>0x49ae763ed846db9a69a639732caa320fad1d5799</td>\n",
       "      <td>BENQI</td>\n",
       "      <td>avax</td>\n",
       "      <td>7.193645e-03</td>\n",
       "    </tr>\n",
       "    <tr>\n",
       "      <th>6991</th>\n",
       "      <td>6991</td>\n",
       "      <td>0x49ae763ed846db9a69a639732caa320fad1d5799</td>\n",
       "      <td>Compound V3</td>\n",
       "      <td>eth</td>\n",
       "      <td>2.081538e-01</td>\n",
       "    </tr>\n",
       "    <tr>\n",
       "      <th>6992</th>\n",
       "      <td>6992</td>\n",
       "      <td>0x49ae763ed846db9a69a639732caa320fad1d5799</td>\n",
       "      <td>Convex</td>\n",
       "      <td>eth</td>\n",
       "      <td>1.232592e+04</td>\n",
       "    </tr>\n",
       "    <tr>\n",
       "      <th>6993</th>\n",
       "      <td>6993</td>\n",
       "      <td>0x49ae763ed846db9a69a639732caa320fad1d5799</td>\n",
       "      <td>LIDO</td>\n",
       "      <td>eth</td>\n",
       "      <td>1.614300e-15</td>\n",
       "    </tr>\n",
       "  </tbody>\n",
       "</table>\n",
       "</div>"
      ],
      "text/plain": [
       "      Unnamed: 0                                        User          Name  \\\n",
       "521          521  0x7a0af73e4c08a4a46513e8b7fea726fb8d499614       Aave V2   \n",
       "522          522  0x7a0af73e4c08a4a46513e8b7fea726fb8d499614          LIDO   \n",
       "3898        3898  0x64bade3ea5ffc64cfb776f55cf82086b9429a5ee    Badger DAO   \n",
       "3899        3899  0x64bade3ea5ffc64cfb776f55cf82086b9429a5ee      AutoFarm   \n",
       "3900        3900  0x64bade3ea5ffc64cfb776f55cf82086b9429a5ee         Venus   \n",
       "3901        3901  0x64bade3ea5ffc64cfb776f55cf82086b9429a5ee      Compound   \n",
       "3902        3902  0x64bade3ea5ffc64cfb776f55cf82086b9429a5ee    SpiritSwap   \n",
       "3903        3903  0x64bade3ea5ffc64cfb776f55cf82086b9429a5ee    Uniswap V2   \n",
       "3904        3904  0x64bade3ea5ffc64cfb776f55cf82086b9429a5ee        xToken   \n",
       "5226        5226  0xd35db3b19c8c2a60b8613e5b30aadcd290c99e75     GrizzlyFi   \n",
       "5227        5227  0xd35db3b19c8c2a60b8613e5b30aadcd290c99e75         Venus   \n",
       "5228        5228  0xd35db3b19c8c2a60b8613e5b30aadcd290c99e75      Compound   \n",
       "5229        5229  0xd35db3b19c8c2a60b8613e5b30aadcd290c99e75  Damm Finance   \n",
       "5230        5230  0xd35db3b19c8c2a60b8613e5b30aadcd290c99e75    DeFi Franc   \n",
       "5231        5231  0xd35db3b19c8c2a60b8613e5b30aadcd290c99e75         Geist   \n",
       "6989        6989  0x49ae763ed846db9a69a639732caa320fad1d5799       Aave V3   \n",
       "6990        6990  0x49ae763ed846db9a69a639732caa320fad1d5799         BENQI   \n",
       "6991        6991  0x49ae763ed846db9a69a639732caa320fad1d5799   Compound V3   \n",
       "6992        6992  0x49ae763ed846db9a69a639732caa320fad1d5799        Convex   \n",
       "6993        6993  0x49ae763ed846db9a69a639732caa320fad1d5799          LIDO   \n",
       "\n",
       "     Chain         Value  \n",
       "521    eth  1.888820e-01  \n",
       "522    eth  1.616860e-15  \n",
       "3898   eth  6.364489e+01  \n",
       "3899  boba  1.429303e-16  \n",
       "3900   bsc  4.086105e-04  \n",
       "3901   eth  8.623277e-01  \n",
       "3902   ftm  7.093745e+00  \n",
       "3903   eth  4.129660e+00  \n",
       "3904   eth  1.779806e-12  \n",
       "5226   bsc  9.206881e+05  \n",
       "5227   bsc  8.401605e+04  \n",
       "5228   eth  6.657349e+00  \n",
       "5229   eth  0.000000e+00  \n",
       "5230   eth  1.143865e-02  \n",
       "5231   ftm  4.613796e+05  \n",
       "6989  avax  3.369749e+03  \n",
       "6990  avax  7.193645e-03  \n",
       "6991   eth  2.081538e-01  \n",
       "6992   eth  1.232592e+04  \n",
       "6993   eth  1.614300e-15  "
      ]
     },
     "execution_count": 82,
     "metadata": {},
     "output_type": "execute_result"
    }
   ],
   "source": [
    "userDf[userDf.User.isin(lostUsers)]"
   ]
  },
  {
   "cell_type": "code",
   "execution_count": 83,
   "id": "49bba707",
   "metadata": {},
   "outputs": [
    {
     "data": {
      "text/plain": [
       "<BarContainer object of 2 artists>"
      ]
     },
     "execution_count": 83,
     "metadata": {},
     "output_type": "execute_result"
    },
    {
     "data": {
      "image/png": "[encoded data removed]",
      "text/plain": [
       "<Figure size 432x288 with 1 Axes>"
      ]
     },
     "metadata": {
      "needs_background": "light"
     },
     "output_type": "display_data"
    }
   ],
   "source": [
    "plt.bar(['New Users', 'Lost Users'], [len(newUsers), len(lostUsers)])"
   ]
  },
  {
   "cell_type": "code",
   "execution_count": 84,
   "id": "caee50bc",
   "metadata": {},
   "outputs": [
    {
     "ename": "TypeError",
     "evalue": "unhashable type: 'numpy.ndarray'",
     "output_type": "error",
     "traceback": [
      "\u001b[0;31m---------------------------------------------------------------------------\u001b[0m",
      "\u001b[0;31mTypeError\u001b[0m                                 Traceback (most recent call last)",
      "Input \u001b[0;32mIn [84]\u001b[0m, in \u001b[0;36m<cell line: 1>\u001b[0;34m()\u001b[0m\n\u001b[0;32m----> 1\u001b[0m \u001b[43mplt\u001b[49m\u001b[38;5;241;43m.\u001b[39;49m\u001b[43mplot\u001b[49m\u001b[43m(\u001b[49m\u001b[43mcompDf\u001b[49m\u001b[38;5;241;43m.\u001b[39;49m\u001b[43mnlargest\u001b[49m\u001b[43m(\u001b[49m\u001b[38;5;241;43m5\u001b[39;49m\u001b[43m,\u001b[49m\u001b[43m[\u001b[49m\u001b[38;5;124;43m'\u001b[39;49m\u001b[38;5;124;43mTVLFromSharedUsers\u001b[39;49m\u001b[38;5;124;43m'\u001b[39;49m\u001b[43m]\u001b[49m\u001b[43m)\u001b[49m\u001b[43m)\u001b[49m\n",
      "File \u001b[0;32m~/.local/lib/python3.8/site-packages/matplotlib/pyplot.py:2769\u001b[0m, in \u001b[0;36mplot\u001b[0;34m(scalex, scaley, data, *args, **kwargs)\u001b[0m\n\u001b[1;32m   2767\u001b[0m \u001b[38;5;129m@_copy_docstring_and_deprecators\u001b[39m(Axes\u001b[38;5;241m.\u001b[39mplot)\n\u001b[1;32m   2768\u001b[0m \u001b[38;5;28;01mdef\u001b[39;00m \u001b[38;5;21mplot\u001b[39m(\u001b[38;5;241m*\u001b[39margs, scalex\u001b[38;5;241m=\u001b[39m\u001b[38;5;28;01mTrue\u001b[39;00m, scaley\u001b[38;5;241m=\u001b[39m\u001b[38;5;28;01mTrue\u001b[39;00m, data\u001b[38;5;241m=\u001b[39m\u001b[38;5;28;01mNone\u001b[39;00m, \u001b[38;5;241m*\u001b[39m\u001b[38;5;241m*\u001b[39mkwargs):\n\u001b[0;32m-> 2769\u001b[0m     \u001b[38;5;28;01mreturn\u001b[39;00m \u001b[43mgca\u001b[49m\u001b[43m(\u001b[49m\u001b[43m)\u001b[49m\u001b[38;5;241;43m.\u001b[39;49m\u001b[43mplot\u001b[49m\u001b[43m(\u001b[49m\n\u001b[1;32m   2770\u001b[0m \u001b[43m        \u001b[49m\u001b[38;5;241;43m*\u001b[39;49m\u001b[43margs\u001b[49m\u001b[43m,\u001b[49m\u001b[43m \u001b[49m\u001b[43mscalex\u001b[49m\u001b[38;5;241;43m=\u001b[39;49m\u001b[43mscalex\u001b[49m\u001b[43m,\u001b[49m\u001b[43m \u001b[49m\u001b[43mscaley\u001b[49m\u001b[38;5;241;43m=\u001b[39;49m\u001b[43mscaley\u001b[49m\u001b[43m,\u001b[49m\n\u001b[1;32m   2771\u001b[0m \u001b[43m        \u001b[49m\u001b[38;5;241;43m*\u001b[39;49m\u001b[38;5;241;43m*\u001b[39;49m\u001b[43m(\u001b[49m\u001b[43m{\u001b[49m\u001b[38;5;124;43m\"\u001b[39;49m\u001b[38;5;124;43mdata\u001b[39;49m\u001b[38;5;124;43m\"\u001b[39;49m\u001b[43m:\u001b[49m\u001b[43m \u001b[49m\u001b[43mdata\u001b[49m\u001b[43m}\u001b[49m\u001b[43m \u001b[49m\u001b[38;5;28;43;01mif\u001b[39;49;00m\u001b[43m \u001b[49m\u001b[43mdata\u001b[49m\u001b[43m \u001b[49m\u001b[38;5;129;43;01mis\u001b[39;49;00m\u001b[43m \u001b[49m\u001b[38;5;129;43;01mnot\u001b[39;49;00m\u001b[43m \u001b[49m\u001b[38;5;28;43;01mNone\u001b[39;49;00m\u001b[43m \u001b[49m\u001b[38;5;28;43;01melse\u001b[39;49;00m\u001b[43m \u001b[49m\u001b[43m{\u001b[49m\u001b[43m}\u001b[49m\u001b[43m)\u001b[49m\u001b[43m,\u001b[49m\u001b[43m \u001b[49m\u001b[38;5;241;43m*\u001b[39;49m\u001b[38;5;241;43m*\u001b[39;49m\u001b[43mkwargs\u001b[49m\u001b[43m)\u001b[49m\n",
      "File \u001b[0;32m~/.local/lib/python3.8/site-packages/matplotlib/axes/_axes.py:1632\u001b[0m, in \u001b[0;36mAxes.plot\u001b[0;34m(self, scalex, scaley, data, *args, **kwargs)\u001b[0m\n\u001b[1;32m   1390\u001b[0m \u001b[38;5;124;03m\"\"\"\u001b[39;00m\n\u001b[1;32m   1391\u001b[0m \u001b[38;5;124;03mPlot y versus x as lines and/or markers.\u001b[39;00m\n\u001b[1;32m   1392\u001b[0m \n\u001b[0;32m   (...)\u001b[0m\n\u001b[1;32m   1629\u001b[0m \u001b[38;5;124;03m(``'green'``) or hex strings (``'#008000'``).\u001b[39;00m\n\u001b[1;32m   1630\u001b[0m \u001b[38;5;124;03m\"\"\"\u001b[39;00m\n\u001b[1;32m   1631\u001b[0m kwargs \u001b[38;5;241m=\u001b[39m cbook\u001b[38;5;241m.\u001b[39mnormalize_kwargs(kwargs, mlines\u001b[38;5;241m.\u001b[39mLine2D)\n\u001b[0;32m-> 1632\u001b[0m lines \u001b[38;5;241m=\u001b[39m [\u001b[38;5;241m*\u001b[39m\u001b[38;5;28mself\u001b[39m\u001b[38;5;241m.\u001b[39m_get_lines(\u001b[38;5;241m*\u001b[39margs, data\u001b[38;5;241m=\u001b[39mdata, \u001b[38;5;241m*\u001b[39m\u001b[38;5;241m*\u001b[39mkwargs)]\n\u001b[1;32m   1633\u001b[0m \u001b[38;5;28;01mfor\u001b[39;00m line \u001b[38;5;129;01min\u001b[39;00m lines:\n\u001b[1;32m   1634\u001b[0m     \u001b[38;5;28mself\u001b[39m\u001b[38;5;241m.\u001b[39madd_line(line)\n",
      "File \u001b[0;32m~/.local/lib/python3.8/site-packages/matplotlib/axes/_base.py:312\u001b[0m, in \u001b[0;36m_process_plot_var_args.__call__\u001b[0;34m(self, data, *args, **kwargs)\u001b[0m\n\u001b[1;32m    310\u001b[0m     this \u001b[38;5;241m+\u001b[39m\u001b[38;5;241m=\u001b[39m args[\u001b[38;5;241m0\u001b[39m],\n\u001b[1;32m    311\u001b[0m     args \u001b[38;5;241m=\u001b[39m args[\u001b[38;5;241m1\u001b[39m:]\n\u001b[0;32m--> 312\u001b[0m \u001b[38;5;28;01myield from\u001b[39;00m \u001b[38;5;28;43mself\u001b[39;49m\u001b[38;5;241;43m.\u001b[39;49m\u001b[43m_plot_args\u001b[49m\u001b[43m(\u001b[49m\u001b[43mthis\u001b[49m\u001b[43m,\u001b[49m\u001b[43m \u001b[49m\u001b[43mkwargs\u001b[49m\u001b[43m)\u001b[49m\n",
      "File \u001b[0;32m~/.local/lib/python3.8/site-packages/matplotlib/axes/_base.py:495\u001b[0m, in \u001b[0;36m_process_plot_var_args._plot_args\u001b[0;34m(self, tup, kwargs, return_kwargs)\u001b[0m\n\u001b[1;32m    493\u001b[0m     \u001b[38;5;28mself\u001b[39m\u001b[38;5;241m.\u001b[39maxes\u001b[38;5;241m.\u001b[39mxaxis\u001b[38;5;241m.\u001b[39mupdate_units(x)\n\u001b[1;32m    494\u001b[0m \u001b[38;5;28;01mif\u001b[39;00m \u001b[38;5;28mself\u001b[39m\u001b[38;5;241m.\u001b[39maxes\u001b[38;5;241m.\u001b[39myaxis \u001b[38;5;129;01mis\u001b[39;00m \u001b[38;5;129;01mnot\u001b[39;00m \u001b[38;5;28;01mNone\u001b[39;00m:\n\u001b[0;32m--> 495\u001b[0m     \u001b[38;5;28;43mself\u001b[39;49m\u001b[38;5;241;43m.\u001b[39;49m\u001b[43maxes\u001b[49m\u001b[38;5;241;43m.\u001b[39;49m\u001b[43myaxis\u001b[49m\u001b[38;5;241;43m.\u001b[39;49m\u001b[43mupdate_units\u001b[49m\u001b[43m(\u001b[49m\u001b[43my\u001b[49m\u001b[43m)\u001b[49m\n\u001b[1;32m    497\u001b[0m \u001b[38;5;28;01mif\u001b[39;00m x\u001b[38;5;241m.\u001b[39mshape[\u001b[38;5;241m0\u001b[39m] \u001b[38;5;241m!=\u001b[39m y\u001b[38;5;241m.\u001b[39mshape[\u001b[38;5;241m0\u001b[39m]:\n\u001b[1;32m    498\u001b[0m     \u001b[38;5;28;01mraise\u001b[39;00m \u001b[38;5;167;01mValueError\u001b[39;00m(\u001b[38;5;124mf\u001b[39m\u001b[38;5;124m\"\u001b[39m\u001b[38;5;124mx and y must have same first dimension, but \u001b[39m\u001b[38;5;124m\"\u001b[39m\n\u001b[1;32m    499\u001b[0m                      \u001b[38;5;124mf\u001b[39m\u001b[38;5;124m\"\u001b[39m\u001b[38;5;124mhave shapes \u001b[39m\u001b[38;5;132;01m{\u001b[39;00mx\u001b[38;5;241m.\u001b[39mshape\u001b[38;5;132;01m}\u001b[39;00m\u001b[38;5;124m and \u001b[39m\u001b[38;5;132;01m{\u001b[39;00my\u001b[38;5;241m.\u001b[39mshape\u001b[38;5;132;01m}\u001b[39;00m\u001b[38;5;124m\"\u001b[39m)\n",
      "File \u001b[0;32m~/.local/lib/python3.8/site-packages/matplotlib/axis.py:1449\u001b[0m, in \u001b[0;36mAxis.update_units\u001b[0;34m(self, data)\u001b[0m\n\u001b[1;32m   1447\u001b[0m neednew \u001b[38;5;241m=\u001b[39m \u001b[38;5;28mself\u001b[39m\u001b[38;5;241m.\u001b[39mconverter \u001b[38;5;241m!=\u001b[39m converter\n\u001b[1;32m   1448\u001b[0m \u001b[38;5;28mself\u001b[39m\u001b[38;5;241m.\u001b[39mconverter \u001b[38;5;241m=\u001b[39m converter\n\u001b[0;32m-> 1449\u001b[0m default \u001b[38;5;241m=\u001b[39m \u001b[38;5;28;43mself\u001b[39;49m\u001b[38;5;241;43m.\u001b[39;49m\u001b[43mconverter\u001b[49m\u001b[38;5;241;43m.\u001b[39;49m\u001b[43mdefault_units\u001b[49m\u001b[43m(\u001b[49m\u001b[43mdata\u001b[49m\u001b[43m,\u001b[49m\u001b[43m \u001b[49m\u001b[38;5;28;43mself\u001b[39;49m\u001b[43m)\u001b[49m\n\u001b[1;32m   1450\u001b[0m \u001b[38;5;28;01mif\u001b[39;00m default \u001b[38;5;129;01mis\u001b[39;00m \u001b[38;5;129;01mnot\u001b[39;00m \u001b[38;5;28;01mNone\u001b[39;00m \u001b[38;5;129;01mand\u001b[39;00m \u001b[38;5;28mself\u001b[39m\u001b[38;5;241m.\u001b[39munits \u001b[38;5;129;01mis\u001b[39;00m \u001b[38;5;28;01mNone\u001b[39;00m:\n\u001b[1;32m   1451\u001b[0m     \u001b[38;5;28mself\u001b[39m\u001b[38;5;241m.\u001b[39mset_units(default)\n",
      "File \u001b[0;32m~/.local/lib/python3.8/site-packages/matplotlib/category.py:116\u001b[0m, in \u001b[0;36mStrCategoryConverter.default_units\u001b[0;34m(data, axis)\u001b[0m\n\u001b[1;32m    114\u001b[0m \u001b[38;5;66;03m# the conversion call stack is default_units -> axis_info -> convert\u001b[39;00m\n\u001b[1;32m    115\u001b[0m \u001b[38;5;28;01mif\u001b[39;00m axis\u001b[38;5;241m.\u001b[39munits \u001b[38;5;129;01mis\u001b[39;00m \u001b[38;5;28;01mNone\u001b[39;00m:\n\u001b[0;32m--> 116\u001b[0m     axis\u001b[38;5;241m.\u001b[39mset_units(\u001b[43mUnitData\u001b[49m\u001b[43m(\u001b[49m\u001b[43mdata\u001b[49m\u001b[43m)\u001b[49m)\n\u001b[1;32m    117\u001b[0m \u001b[38;5;28;01melse\u001b[39;00m:\n\u001b[1;32m    118\u001b[0m     axis\u001b[38;5;241m.\u001b[39munits\u001b[38;5;241m.\u001b[39mupdate(data)\n",
      "File \u001b[0;32m~/.local/lib/python3.8/site-packages/matplotlib/category.py:192\u001b[0m, in \u001b[0;36mUnitData.__init__\u001b[0;34m(self, data)\u001b[0m\n\u001b[1;32m    190\u001b[0m \u001b[38;5;28mself\u001b[39m\u001b[38;5;241m.\u001b[39m_counter \u001b[38;5;241m=\u001b[39m itertools\u001b[38;5;241m.\u001b[39mcount()\n\u001b[1;32m    191\u001b[0m \u001b[38;5;28;01mif\u001b[39;00m data \u001b[38;5;129;01mis\u001b[39;00m \u001b[38;5;129;01mnot\u001b[39;00m \u001b[38;5;28;01mNone\u001b[39;00m:\n\u001b[0;32m--> 192\u001b[0m     \u001b[38;5;28;43mself\u001b[39;49m\u001b[38;5;241;43m.\u001b[39;49m\u001b[43mupdate\u001b[49m\u001b[43m(\u001b[49m\u001b[43mdata\u001b[49m\u001b[43m)\u001b[49m\n",
      "File \u001b[0;32m~/.local/lib/python3.8/site-packages/matplotlib/category.py:225\u001b[0m, in \u001b[0;36mUnitData.update\u001b[0;34m(self, data)\u001b[0m\n\u001b[1;32m    223\u001b[0m \u001b[38;5;66;03m# check if convertible to number:\u001b[39;00m\n\u001b[1;32m    224\u001b[0m convertible \u001b[38;5;241m=\u001b[39m \u001b[38;5;28;01mTrue\u001b[39;00m\n\u001b[0;32m--> 225\u001b[0m \u001b[38;5;28;01mfor\u001b[39;00m val \u001b[38;5;129;01min\u001b[39;00m \u001b[43mOrderedDict\u001b[49m\u001b[38;5;241;43m.\u001b[39;49m\u001b[43mfromkeys\u001b[49m\u001b[43m(\u001b[49m\u001b[43mdata\u001b[49m\u001b[43m)\u001b[49m:\n\u001b[1;32m    226\u001b[0m     \u001b[38;5;66;03m# OrderedDict just iterates over unique values in data.\u001b[39;00m\n\u001b[1;32m    227\u001b[0m     _api\u001b[38;5;241m.\u001b[39mcheck_isinstance((\u001b[38;5;28mstr\u001b[39m, \u001b[38;5;28mbytes\u001b[39m), value\u001b[38;5;241m=\u001b[39mval)\n\u001b[1;32m    228\u001b[0m     \u001b[38;5;28;01mif\u001b[39;00m convertible:\n\u001b[1;32m    229\u001b[0m         \u001b[38;5;66;03m# this will only be called so long as convertible is True.\u001b[39;00m\n",
      "\u001b[0;31mTypeError\u001b[0m: unhashable type: 'numpy.ndarray'"
     ]
    },
    {
     "data": {
      "image/png": "[encoded data removed]",
      "text/plain": [
       "<Figure size 432x288 with 1 Axes>"
      ]
     },
     "metadata": {
      "needs_background": "light"
     },
     "output_type": "display_data"
    }
   ],
   "source": [
    "plt.plot(compDf.nlargest(5,['TVLFromSharedUsers']))"
   ]
  },
  {
   "cell_type": "code",
   "execution_count": 19,
   "id": "7a058dfb",
   "metadata": {},
   "outputs": [
    {
     "data": {
      "text/html": [
       "<div>\n",
       "<style scoped>\n",
       "    .dataframe tbody tr th:only-of-type {\n",
       "        vertical-align: middle;\n",
       "    }\n",
       "\n",
       "    .dataframe tbody tr th {\n",
       "        vertical-align: top;\n",
       "    }\n",
       "\n",
       "    .dataframe thead th {\n",
       "        text-align: right;\n",
       "    }\n",
       "</style>\n",
       "<table border=\"1\" class=\"dataframe\">\n",
       "  <thead>\n",
       "    <tr style=\"text-align: right;\">\n",
       "      <th></th>\n",
       "      <th>Name</th>\n",
       "    </tr>\n",
       "  </thead>\n",
       "  <tbody>\n",
       "    <tr>\n",
       "      <th>0</th>\n",
       "      <td>GMX</td>\n",
       "    </tr>\n",
       "    <tr>\n",
       "      <th>1</th>\n",
       "      <td>Wonderland</td>\n",
       "    </tr>\n",
       "    <tr>\n",
       "      <th>2</th>\n",
       "      <td>Venus</td>\n",
       "    </tr>\n",
       "    <tr>\n",
       "      <th>3</th>\n",
       "      <td>Adamant</td>\n",
       "    </tr>\n",
       "    <tr>\n",
       "      <th>4</th>\n",
       "      <td>Klima DAO</td>\n",
       "    </tr>\n",
       "    <tr>\n",
       "      <th>...</th>\n",
       "      <td>...</td>\n",
       "    </tr>\n",
       "    <tr>\n",
       "      <th>548</th>\n",
       "      <td>Voltage</td>\n",
       "    </tr>\n",
       "    <tr>\n",
       "      <th>549</th>\n",
       "      <td>Unifi Protocol</td>\n",
       "    </tr>\n",
       "    <tr>\n",
       "      <th>550</th>\n",
       "      <td>Dot Dot Finance</td>\n",
       "    </tr>\n",
       "    <tr>\n",
       "      <th>551</th>\n",
       "      <td>Valas</td>\n",
       "    </tr>\n",
       "    <tr>\n",
       "      <th>552</th>\n",
       "      <td>Rally</td>\n",
       "    </tr>\n",
       "  </tbody>\n",
       "</table>\n",
       "<p>553 rows × 1 columns</p>\n",
       "</div>"
      ],
      "text/plain": [
       "                Name\n",
       "0                GMX\n",
       "1         Wonderland\n",
       "2              Venus\n",
       "3            Adamant\n",
       "4         Klima DAO \n",
       "..               ...\n",
       "548          Voltage\n",
       "549   Unifi Protocol\n",
       "550  Dot Dot Finance\n",
       "551            Valas\n",
       "552            Rally\n",
       "\n",
       "[553 rows x 1 columns]"
      ]
     },
     "execution_count": 19,
     "metadata": {},
     "output_type": "execute_result"
    }
   ],
   "source": [
    "# where have lost users gone ??? \n",
    "\n",
    "compDf"
   ]
  },
  {
   "cell_type": "code",
   "execution_count": null,
   "id": "3ef4f1c6",
   "metadata": {},
   "outputs": [],
   "source": []
  }
 ],
 "metadata": {
  "kernelspec": {
   "display_name": "Python 3 (ipykernel)",
   "language": "python",
   "name": "python3"
  },
  "language_info": {
   "codemirror_mode": {
    "name": "ipython",
    "version": 3
   },
   "file_extension": ".py",
   "mimetype": "text/x-python",
   "name": "python",
   "nbconvert_exporter": "python",
   "pygments_lexer": "ipython3",
   "version": "3.8.10"
  }
 },
 "nbformat": 4,
 "nbformat_minor": 5
}
