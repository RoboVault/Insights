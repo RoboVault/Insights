{
 "cells": [
  {
   "cell_type": "code",
   "execution_count": 78,
   "id": "a5965b52",
   "metadata": {},
   "outputs": [
    {
     "name": "stderr",
     "output_type": "stream",
     "text": [
      "/tmp/ipykernel_45410/3028945837.py:6: DtypeWarning: Columns (5,6,9,10,13,17,18,21,22,25,26,28,30) have mixed types. Specify dtype option on import or set low_memory=False.\n",
      "  dfliquidations = pd.read_csv(tables[1].replace(\".\", \"_\") + \".csv\")\n",
      "/tmp/ipykernel_45410/3028945837.py:7: DtypeWarning: Columns (5,6,9,10,13,17,18,21,22,25,26,28,30,33) have mixed types. Specify dtype option on import or set low_memory=False.\n",
      "  dfRepayments = pd.read_csv(tables[2].replace(\".\", \"_\") + \".csv\")\n",
      "/tmp/ipykernel_45410/3028945837.py:8: DtypeWarning: Columns (5,6,9,10,13,17,18,21,22,25,26,28,30,33,36,37) have mixed types. Specify dtype option on import or set low_memory=False.\n",
      "  dfBorrows = pd.read_csv(tables[3].replace(\".\", \"_\") + \".csv\")\n"
     ]
    }
   ],
   "source": [
    "import pandas as pd \n",
    "\n",
    "tables = [\"ethereum.aave.ez_deposits\", \n",
    "          \"ethereum.aave.ez_liquidations\", \n",
    "          \"ethereum.aave.ez_repayments\", \n",
    "          \"ethereum.aave.ez_borrows\", \n",
    "          \"ethereum.aave.ez_withdraws\"]\n",
    "\n",
    "dfDeposits = pd.read_csv(tables[0].replace(\".\", \"_\") + \".csv\")\n",
    "dfliquidations = pd.read_csv(tables[1].replace(\".\", \"_\") + \".csv\")\n",
    "dfRepayments = pd.read_csv(tables[2].replace(\".\", \"_\") + \".csv\")\n",
    "dfBorrows = pd.read_csv(tables[3].replace(\".\", \"_\") + \".csv\")\n",
    "dfWithdrawals = pd.read_csv(tables[4].replace(\".\", \"_\") + \".csv\")\n",
    "\n",
    "# Need to clean up data that is pulled from DB \n",
    "dfDeposits['Time'] = dfDeposits['block_timestamp'].astype('datetime64[ns]')\n",
    "dfliquidations['Time'] = dfliquidations['block_timestamp'].astype('datetime64[ns]')\n",
    "dfRepayments['Time'] = dfRepayments['block_timestamp'].astype('datetime64[ns]')\n",
    "dfBorrows['Time'] = dfBorrows['block_timestamp'].astype('datetime64[ns]')\n",
    "dfWithdrawals['Time'] = dfWithdrawals['block_timestamp'].astype('datetime64[ns]')\n"
   ]
  },
  {
   "cell_type": "code",
   "execution_count": 3,
   "id": "6fc34d23",
   "metadata": {},
   "outputs": [],
   "source": [
    "users = dfDeposits['depositor_address'].unique()\n",
    "assets = dfDeposits['symbol'].unique()"
   ]
  },
  {
   "cell_type": "code",
   "execution_count": 108,
   "id": "9aa91ad1",
   "metadata": {},
   "outputs": [],
   "source": [
    "# Lazy Way To Get Prices \n",
    "\n",
    "priceDict = {}\n",
    "\n",
    "for asset in assets : \n",
    "    \n",
    "    priceDict[asset] = dfDeposits[dfDeposits.symbol == asset].iloc[-1]['token_price']"
   ]
  },
  {
   "cell_type": "code",
   "execution_count": 109,
   "id": "afaa2a28",
   "metadata": {},
   "outputs": [
    {
     "data": {
      "text/plain": [
       "{'WETH': 1220.29,\n",
       " 'DAI': 1.0,\n",
       " 'AAVE': 54.935067465,\n",
       " 'SNX': 1.719411251,\n",
       " 'REN': 0.07937848579,\n",
       " 'TUSD': 0.9958280502,\n",
       " 'UNI': 5.34,\n",
       " 'USDT': 1.009888705,\n",
       " 'MKR': 509.877294402,\n",
       " 'LINK': 6.029770294,\n",
       " 'YFI': 6060.700113284,\n",
       " 'WBTC': 16873.478982301,\n",
       " 'ZRX': 0.1873294768,\n",
       " 'USDC': 0.99917,\n",
       " 'ENJ': 0.3171978727,\n",
       " 'KNC': 3.316653621,\n",
       " 'sUSD': 1.00448422,\n",
       " 'MANA': 0.3892533784,\n",
       " 'BUSD': 1.0,\n",
       " 'BAT': 0.2250422779,\n",
       " 'CRV': 0.5233086018,\n",
       " 'GUSD': 0.9999671358,\n",
       " 'BAL': 6.820383014,\n",
       " 'xSUSHI': 1.807785883,\n",
       " 'renFIL': 4.225854664,\n",
       " 'RAI': 2.801944153,\n",
       " 'AMPL': 1.058012829,\n",
       " 'USDP': 0.9943281569,\n",
       " 'DPI': 71.526085936,\n",
       " 'FRAX': 0.9895462853,\n",
       " 'FEI': 1.003098374,\n",
       " 'stETH': 1201.324286831,\n",
       " 'ENS': 13.969576099,\n",
       " 'UST': 0.07764685095,\n",
       " 'CVX': 4.150519566,\n",
       " '1INCH': 0.388556059,\n",
       " 'LUSD': 1.022145257}"
      ]
     },
     "execution_count": 109,
     "metadata": {},
     "output_type": "execute_result"
    }
   ],
   "source": [
    "priceDict"
   ]
  },
  {
   "cell_type": "code",
   "execution_count": 88,
   "id": "8d692f0b",
   "metadata": {},
   "outputs": [],
   "source": [
    "import random\n",
    "\n",
    "# use smaller data set to mess around with data cleaning \n",
    "usersShort = random.choices(users, k=100)"
   ]
  },
  {
   "cell_type": "code",
   "execution_count": 89,
   "id": "1d301668",
   "metadata": {},
   "outputs": [],
   "source": [
    "df = pd.DataFrame({'user' : users})"
   ]
  },
  {
   "cell_type": "code",
   "execution_count": null,
   "id": "fd3dbc26",
   "metadata": {},
   "outputs": [],
   "source": [
    "# Operations to clean Data\n",
    "\n",
    "\n",
    "def find_first_deposit(row):\n",
    "    return dfDeposits[dfDeposits.depositor_address == row['user']]['Time'].min()\n",
    "\n",
    "def find_first_borrow(row):\n",
    "    return dfBorrows[dfBorrows.borrower_address == row['user']]['Time'].min()\n",
    "\n",
    "def find_last_withdraw(row):\n",
    "    return dfWithdrawals[dfWithdrawals.depositor_address == row['user']]['Time'].max()\n",
    "\n",
    "def find_last_liquidation(row):\n",
    "    return dfliquidations[dfliquidations.borrower == row['user']]['Time'].max()\n",
    "\n",
    "def find_total_deposits(row):\n",
    "    return dfDeposits[(dfDeposits.depositor_address == row['user']) & (dfDeposits.symbol == asset)]['issued_tokens'].sum()\n",
    "\n",
    "def find_total_withdrawals(row):\n",
    "    return dfWithdrawals[(dfWithdrawals.depositor_address == row['user']) & (dfWithdrawals.symbol == asset)]['withdrawn_tokens'].sum()\n",
    "\n",
    "def find_total_liquidations(row):\n",
    "    return dfliquidations[(dfliquidations.borrower == row['user']) & (dfliquidations.collateral_token_symbol == asset)]['liquidated_amount'].sum()\n",
    "\n",
    "def find_total_borrows(row):\n",
    "    return dfBorrows[(dfBorrows.borrower_address == row['user']) & (dfBorrows.symbol == asset)]['borrowed_tokens'].sum()\n",
    "\n",
    "def find_total_repayments(row):\n",
    "    return dfBorrows[(dfRepayments.borrower == row['user']) & (dfBorrows.symbol == asset)]['repayed_tokens'].sum()\n",
    "\n",
    "\n",
    "def total_deposits_usd(row):\n",
    "    return dfDeposits[dfDeposits.depositor_address == row['user']]['supplied_usd'].sum()\n",
    "\n",
    "\n"
   ]
  },
  {
   "cell_type": "code",
   "execution_count": 205,
   "id": "38740f0f",
   "metadata": {},
   "outputs": [],
   "source": [
    "\n",
    "\"\"\"\n",
    "NOTE APPEARS TO BE SOME MINOR ISSUE WITH DATA ~~~ \n",
    "\n",
    "https://etherscan.io/tx/0x0a33776dcc36eaf3e57a3fa6ac7bdb1489565ab1bfb53cefae5bc45f3eba8f55\n",
    "\n",
    "This shows as deposit but not withdrawal for that user -> need to take into account transfers of aTokens \n",
    "\n",
    "Also need to account for fact A Token is elastic i.e. grows in number as interest accrues... \n",
    "\n",
    "\"\"\" \n",
    "\n",
    "#### CLEAN UP THE FUCKING TRASH \n",
    "\n",
    "df['FirstDeposit'] = df.apply(find_first_deposit, axis=1)\n",
    "df['FirstBorrow'] = df.apply(find_first_deposit, axis=1)\n",
    "df['LastWithdraw'] = df.apply(find_last_withdraw, axis=1)\n",
    "df['LastLiquidation'] = df.apply(find_last_liquidation, axis=1)\n",
    "df['TotalUSDSupplied'] = df.apply(total_deposits_usd, axis=1)\n",
    "\n",
    "#assetSimple = ['USDC']\n",
    "colList = []\n",
    "\n",
    "for asset in assets : \n",
    "    df['TotalDeposits' + asset] = df.apply(find_total_deposits, axis=1)\n",
    "    df['TotalWithdrawals' + asset] = df.apply(find_total_withdrawals, axis=1)\n",
    "    df['TotalLiquidations' + asset] = df.apply(find_total_liquidations, axis=1)\n",
    "    df['TotalBorrows' + asset] = df.apply(find_total_borrows, axis=1)\n",
    "    df['TotalRepayments' + asset] = df.apply(find_total_borrows, axis=1)\n",
    "    df['Total Collateral' + asset] = df['TotalDeposits' + asset] - df['TotalWithdrawals' + asset] - df['TotalLiquidations' + asset]\n",
    "    df['Total Collateral USD' + asset] = df['Total Collateral' + asset]*priceDict[asset]\n",
    "    colList.append('Total Collateral USD' + asset)\n",
    "    \n",
    "df['Total Collateral USD'] = df[colList].sum(axis=1)\n",
    "\n",
    "df['End Date'] = dfDeposits['Time'].max()\n",
    "\n",
    "\n",
    "df['TotalDaysSinceEntry'] = (df['End Date'] - df['FirstDeposit']).dt.days\n",
    "df['DaysUntilExit'] = (df['LastWithdraw'] - df['FirstDeposit']).dt.days\n",
    "\n",
    "\n",
    "# number of deposits \n",
    "# number of withdrawals \n",
    "# number of borrows \n",
    "\n",
    "# total usd deposit value \n",
    "# total usd borrow value \n",
    "    "
   ]
  },
  {
   "cell_type": "code",
   "execution_count": 157,
   "id": "c5118045",
   "metadata": {},
   "outputs": [],
   "source": [
    "\n",
    "### assume they still have 2% of what was supplied + have withdrawn tough to perfectly calc this especially if user leaves dust \n",
    "df['Exit'] = (df['Total Collateral USD'] / df['TotalUSDSupplied'] < 0.05) & (df['LastWithdraw'] < dfDeposits['Time'].max())\n"
   ]
  },
  {
   "cell_type": "code",
   "execution_count": 194,
   "id": "0ab9c007",
   "metadata": {},
   "outputs": [],
   "source": [
    "# Filters - applied when calculating retention \n",
    "AssetDeposited = ['USDC']\n",
    "minDepositValue = 10000\n",
    "\n",
    "\n",
    "Days = range(500)\n",
    "reducedDf = df[df['TotalUSDSupplied'] > minDepositValue]\n",
    "retentionList = []\n",
    "\n",
    "for day in Days :\n",
    "    reducedDf = reducedDf[reducedDf['TotalDaysSinceEntry'] > day]\n",
    "    n = len(reducedDf) \n",
    "    exits = (reducedDf[reducedDf.Exit == True])\n",
    "    retention = 1 - sum(exits['DaysUntilExit'] < day) / len(reducedDf)\n",
    "    retentionList.append(retention)"
   ]
  },
  {
   "cell_type": "code",
   "execution_count": 195,
   "id": "5620488d",
   "metadata": {},
   "outputs": [],
   "source": [
    "%matplotlib inline\n",
    "import matplotlib.pyplot as plt\n"
   ]
  },
  {
   "cell_type": "code",
   "execution_count": 196,
   "id": "58bf66d4",
   "metadata": {},
   "outputs": [
    {
     "data": {
      "text/plain": [
       "[<matplotlib.lines.Line2D at 0x7fc18fcc0220>]"
      ]
     },
     "execution_count": 196,
     "metadata": {},
     "output_type": "execute_result"
    },
    {
     "data": {
      "image/png": "[encoded data removed]",
      "text/plain": [
       "<Figure size 432x288 with 1 Axes>"
      ]
     },
     "metadata": {
      "needs_background": "light"
     },
     "output_type": "display_data"
    }
   ],
   "source": [
    "### Can Compare Retention rates with different filters i.e. see multiple lines\n",
    "### potentially which users are leaving \n",
    "\n",
    "plt.plot(retentionList)"
   ]
  },
  {
   "cell_type": "code",
   "execution_count": 197,
   "id": "8c63d7ef",
   "metadata": {},
   "outputs": [
    {
     "data": {
      "text/plain": [
       "pandas._libs.tslibs.timestamps.Timestamp"
      ]
     },
     "execution_count": 197,
     "metadata": {},
     "output_type": "execute_result"
    }
   ],
   "source": [
    "type(df['FirstDeposit'].iloc[0])"
   ]
  },
  {
   "cell_type": "code",
   "execution_count": 202,
   "id": "3cc839c3",
   "metadata": {},
   "outputs": [],
   "source": [
    "# Other Insights \n",
    "date = pd.Timestamp('2022-10-01')\n",
    "# New Users \n",
    "minDepositValue = 100000\n",
    "\n",
    "newUsers = df[(df['FirstDeposit'] > date) & (df['TotalUSDSupplied'] >= minDepositValue) & (df['Exit'] == False)]\n"
   ]
  },
  {
   "cell_type": "code",
   "execution_count": 203,
   "id": "071b6f6d",
   "metadata": {},
   "outputs": [
    {
     "data": {
      "text/html": [
       "<div>\n",
       "<style scoped>\n",
       "    .dataframe tbody tr th:only-of-type {\n",
       "        vertical-align: middle;\n",
       "    }\n",
       "\n",
       "    .dataframe tbody tr th {\n",
       "        vertical-align: top;\n",
       "    }\n",
       "\n",
       "    .dataframe thead th {\n",
       "        text-align: right;\n",
       "    }\n",
       "</style>\n",
       "<table border=\"1\" class=\"dataframe\">\n",
       "  <thead>\n",
       "    <tr style=\"text-align: right;\">\n",
       "      <th></th>\n",
       "      <th>user</th>\n",
       "      <th>FirstDeposit</th>\n",
       "      <th>FirstBorrow</th>\n",
       "      <th>LastWithdraw</th>\n",
       "      <th>LastLiquidation</th>\n",
       "      <th>TotalDepositsUSDC</th>\n",
       "      <th>TotalWithdrawalsUSDC</th>\n",
       "      <th>TotalLiquidationsUSDC</th>\n",
       "      <th>TotalBorrowsUSDC</th>\n",
       "      <th>TotalRepaymentsUSDC</th>\n",
       "      <th>Total CollateralUSDC</th>\n",
       "      <th>TotalUSDSupplied</th>\n",
       "      <th>Total Collateral USDUSDC</th>\n",
       "      <th>Total Collateral USD</th>\n",
       "      <th>Retained</th>\n",
       "      <th>End Date</th>\n",
       "      <th>TotalDaysSinceEntry</th>\n",
       "      <th>DaysUntilExit</th>\n",
       "      <th>Exit</th>\n",
       "    </tr>\n",
       "  </thead>\n",
       "  <tbody>\n",
       "    <tr>\n",
       "      <th>52</th>\n",
       "      <td>0xdd2ad0e989e1e9e6e2db52f59c1248cc3d966d0e</td>\n",
       "      <td>2022-12-03 09:27:23</td>\n",
       "      <td>2022-12-03 09:27:23</td>\n",
       "      <td>NaT</td>\n",
       "      <td>NaT</td>\n",
       "      <td>0.0</td>\n",
       "      <td>0.0</td>\n",
       "      <td>0.0</td>\n",
       "      <td>0.0</td>\n",
       "      <td>0.0</td>\n",
       "      <td>0.0</td>\n",
       "      <td>355033.860646</td>\n",
       "      <td>0.0</td>\n",
       "      <td>0.0</td>\n",
       "      <td>False</td>\n",
       "      <td>2022-12-31 23:59:11</td>\n",
       "      <td>28</td>\n",
       "      <td>NaN</td>\n",
       "      <td>False</td>\n",
       "    </tr>\n",
       "    <tr>\n",
       "      <th>96</th>\n",
       "      <td>0x21e3699d6612d786392dc9832498a3551d949c5c</td>\n",
       "      <td>2022-12-04 19:16:47</td>\n",
       "      <td>2022-12-04 19:16:47</td>\n",
       "      <td>NaT</td>\n",
       "      <td>NaT</td>\n",
       "      <td>0.0</td>\n",
       "      <td>0.0</td>\n",
       "      <td>0.0</td>\n",
       "      <td>0.0</td>\n",
       "      <td>0.0</td>\n",
       "      <td>0.0</td>\n",
       "      <td>505660.020856</td>\n",
       "      <td>0.0</td>\n",
       "      <td>0.0</td>\n",
       "      <td>False</td>\n",
       "      <td>2022-12-31 23:59:11</td>\n",
       "      <td>27</td>\n",
       "      <td>NaN</td>\n",
       "      <td>False</td>\n",
       "    </tr>\n",
       "  </tbody>\n",
       "</table>\n",
       "</div>"
      ],
      "text/plain": [
       "                                          user        FirstDeposit  \\\n",
       "52  0xdd2ad0e989e1e9e6e2db52f59c1248cc3d966d0e 2022-12-03 09:27:23   \n",
       "96  0x21e3699d6612d786392dc9832498a3551d949c5c 2022-12-04 19:16:47   \n",
       "\n",
       "           FirstBorrow LastWithdraw LastLiquidation  TotalDepositsUSDC  \\\n",
       "52 2022-12-03 09:27:23          NaT             NaT                0.0   \n",
       "96 2022-12-04 19:16:47          NaT             NaT                0.0   \n",
       "\n",
       "    TotalWithdrawalsUSDC  TotalLiquidationsUSDC  TotalBorrowsUSDC  \\\n",
       "52                   0.0                    0.0               0.0   \n",
       "96                   0.0                    0.0               0.0   \n",
       "\n",
       "    TotalRepaymentsUSDC  Total CollateralUSDC  TotalUSDSupplied  \\\n",
       "52                  0.0                   0.0     355033.860646   \n",
       "96                  0.0                   0.0     505660.020856   \n",
       "\n",
       "    Total Collateral USDUSDC  Total Collateral USD  Retained  \\\n",
       "52                       0.0                   0.0     False   \n",
       "96                       0.0                   0.0     False   \n",
       "\n",
       "              End Date  TotalDaysSinceEntry  DaysUntilExit   Exit  \n",
       "52 2022-12-31 23:59:11                   28            NaN  False  \n",
       "96 2022-12-31 23:59:11                   27            NaN  False  "
      ]
     },
     "execution_count": 203,
     "metadata": {},
     "output_type": "execute_result"
    }
   ],
   "source": [
    "### show them new users + give some insights i.e. what other apps they use & how they're using portfolio \n",
    "newUsers"
   ]
  },
  {
   "cell_type": "code",
   "execution_count": 200,
   "id": "3f37d31e",
   "metadata": {},
   "outputs": [],
   "source": [
    "# Lost Whales\n",
    "minDepositValue = 100000\n",
    "\n",
    "lostUsers = df[(df['LastWithdraw'] > date) & (df['TotalUSDSupplied'] >= minDepositValue)]"
   ]
  },
  {
   "cell_type": "code",
   "execution_count": 201,
   "id": "0a6945b4",
   "metadata": {},
   "outputs": [
    {
     "data": {
      "text/html": [
       "<div>\n",
       "<style scoped>\n",
       "    .dataframe tbody tr th:only-of-type {\n",
       "        vertical-align: middle;\n",
       "    }\n",
       "\n",
       "    .dataframe tbody tr th {\n",
       "        vertical-align: top;\n",
       "    }\n",
       "\n",
       "    .dataframe thead th {\n",
       "        text-align: right;\n",
       "    }\n",
       "</style>\n",
       "<table border=\"1\" class=\"dataframe\">\n",
       "  <thead>\n",
       "    <tr style=\"text-align: right;\">\n",
       "      <th></th>\n",
       "      <th>user</th>\n",
       "      <th>FirstDeposit</th>\n",
       "      <th>FirstBorrow</th>\n",
       "      <th>LastWithdraw</th>\n",
       "      <th>LastLiquidation</th>\n",
       "      <th>TotalDepositsUSDC</th>\n",
       "      <th>TotalWithdrawalsUSDC</th>\n",
       "      <th>TotalLiquidationsUSDC</th>\n",
       "      <th>TotalBorrowsUSDC</th>\n",
       "      <th>TotalRepaymentsUSDC</th>\n",
       "      <th>Total CollateralUSDC</th>\n",
       "      <th>TotalUSDSupplied</th>\n",
       "      <th>Total Collateral USDUSDC</th>\n",
       "      <th>Total Collateral USD</th>\n",
       "      <th>Retained</th>\n",
       "      <th>End Date</th>\n",
       "      <th>TotalDaysSinceEntry</th>\n",
       "      <th>DaysUntilExit</th>\n",
       "      <th>Exit</th>\n",
       "    </tr>\n",
       "  </thead>\n",
       "  <tbody>\n",
       "    <tr>\n",
       "      <th>11</th>\n",
       "      <td>0xd069fa1e2d428f2580c553fa68c445640f281f79</td>\n",
       "      <td>2022-03-11 13:24:19</td>\n",
       "      <td>2022-03-11 13:24:19</td>\n",
       "      <td>2022-12-16 23:40:11</td>\n",
       "      <td>2022-06-15 08:07:51</td>\n",
       "      <td>0.000000</td>\n",
       "      <td>0.000000</td>\n",
       "      <td>0.0</td>\n",
       "      <td>0.0</td>\n",
       "      <td>0.0</td>\n",
       "      <td>0.000000</td>\n",
       "      <td>1.625912e+06</td>\n",
       "      <td>0.000000</td>\n",
       "      <td>0.000000</td>\n",
       "      <td>False</td>\n",
       "      <td>2022-12-31 23:59:11</td>\n",
       "      <td>295</td>\n",
       "      <td>280.0</td>\n",
       "      <td>True</td>\n",
       "    </tr>\n",
       "    <tr>\n",
       "      <th>34</th>\n",
       "      <td>0x2d220b022e0b1c16a114f800662993e16019d8b4</td>\n",
       "      <td>2022-06-15 03:23:00</td>\n",
       "      <td>2022-06-15 03:23:00</td>\n",
       "      <td>2022-12-09 03:21:59</td>\n",
       "      <td>NaT</td>\n",
       "      <td>0.000000</td>\n",
       "      <td>0.000000</td>\n",
       "      <td>0.0</td>\n",
       "      <td>0.0</td>\n",
       "      <td>0.0</td>\n",
       "      <td>0.000000</td>\n",
       "      <td>1.320277e+05</td>\n",
       "      <td>0.000000</td>\n",
       "      <td>0.000000</td>\n",
       "      <td>False</td>\n",
       "      <td>2022-12-31 23:59:11</td>\n",
       "      <td>199</td>\n",
       "      <td>176.0</td>\n",
       "      <td>True</td>\n",
       "    </tr>\n",
       "    <tr>\n",
       "      <th>37</th>\n",
       "      <td>0xbbced90faac4490bf5e958aa45b06c43d2aa1048</td>\n",
       "      <td>2022-11-03 13:01:47</td>\n",
       "      <td>2022-11-03 13:01:47</td>\n",
       "      <td>2022-11-25 08:33:59</td>\n",
       "      <td>NaT</td>\n",
       "      <td>99973.330433</td>\n",
       "      <td>100035.654851</td>\n",
       "      <td>0.0</td>\n",
       "      <td>0.0</td>\n",
       "      <td>0.0</td>\n",
       "      <td>-62.324418</td>\n",
       "      <td>2.283736e+05</td>\n",
       "      <td>-62.272689</td>\n",
       "      <td>-62.272689</td>\n",
       "      <td>False</td>\n",
       "      <td>2022-12-31 23:59:11</td>\n",
       "      <td>58</td>\n",
       "      <td>21.0</td>\n",
       "      <td>True</td>\n",
       "    </tr>\n",
       "  </tbody>\n",
       "</table>\n",
       "</div>"
      ],
      "text/plain": [
       "                                          user        FirstDeposit  \\\n",
       "11  0xd069fa1e2d428f2580c553fa68c445640f281f79 2022-03-11 13:24:19   \n",
       "34  0x2d220b022e0b1c16a114f800662993e16019d8b4 2022-06-15 03:23:00   \n",
       "37  0xbbced90faac4490bf5e958aa45b06c43d2aa1048 2022-11-03 13:01:47   \n",
       "\n",
       "           FirstBorrow        LastWithdraw     LastLiquidation  \\\n",
       "11 2022-03-11 13:24:19 2022-12-16 23:40:11 2022-06-15 08:07:51   \n",
       "34 2022-06-15 03:23:00 2022-12-09 03:21:59                 NaT   \n",
       "37 2022-11-03 13:01:47 2022-11-25 08:33:59                 NaT   \n",
       "\n",
       "    TotalDepositsUSDC  TotalWithdrawalsUSDC  TotalLiquidationsUSDC  \\\n",
       "11           0.000000              0.000000                    0.0   \n",
       "34           0.000000              0.000000                    0.0   \n",
       "37       99973.330433         100035.654851                    0.0   \n",
       "\n",
       "    TotalBorrowsUSDC  TotalRepaymentsUSDC  Total CollateralUSDC  \\\n",
       "11               0.0                  0.0              0.000000   \n",
       "34               0.0                  0.0              0.000000   \n",
       "37               0.0                  0.0            -62.324418   \n",
       "\n",
       "    TotalUSDSupplied  Total Collateral USDUSDC  Total Collateral USD  \\\n",
       "11      1.625912e+06                  0.000000              0.000000   \n",
       "34      1.320277e+05                  0.000000              0.000000   \n",
       "37      2.283736e+05                -62.272689            -62.272689   \n",
       "\n",
       "    Retained            End Date  TotalDaysSinceEntry  DaysUntilExit  Exit  \n",
       "11     False 2022-12-31 23:59:11                  295          280.0  True  \n",
       "34     False 2022-12-31 23:59:11                  199          176.0  True  \n",
       "37     False 2022-12-31 23:59:11                   58           21.0  True  "
      ]
     },
     "execution_count": 201,
     "metadata": {},
     "output_type": "execute_result"
    }
   ],
   "source": [
    "lostUsers"
   ]
  },
  {
   "cell_type": "code",
   "execution_count": null,
   "id": "2f08e6c4",
   "metadata": {},
   "outputs": [],
   "source": [
    "### IDEA WOULD BE THEY CAN DRAW FURTHER INSIGHTS FROM THESE USERS "
   ]
  }
 ],
 "metadata": {
  "kernelspec": {
   "display_name": "Python 3 (ipykernel)",
   "language": "python",
   "name": "python3"
  },
  "language_info": {
   "codemirror_mode": {
    "name": "ipython",
    "version": 3
   },
   "file_extension": ".py",
   "mimetype": "text/x-python",
   "name": "python",
   "nbconvert_exporter": "python",
   "pygments_lexer": "ipython3",
   "version": "3.8.10"
  }
 },
 "nbformat": 4,
 "nbformat_minor": 5
}
