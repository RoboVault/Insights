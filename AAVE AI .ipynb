{
 "cells": [
  {
   "cell_type": "code",
   "execution_count": 1,
   "id": "52eb1688",
   "metadata": {},
   "outputs": [
    {
     "name": "stderr",
     "output_type": "stream",
     "text": [
      "/tmp/ipykernel_21502/2919981745.py:12: DtypeWarning: Columns (5,6,9,10,13,17,18,21,22,25,26,28,30) have mixed types. Specify dtype option on import or set low_memory=False.\n",
      "  dfliquidations = pd.read_csv(tables[1].replace(\".\", \"_\") + \".csv\")\n",
      "/tmp/ipykernel_21502/2919981745.py:13: DtypeWarning: Columns (5,6,9,10,13,17,18,21,22,25,26,28,30,33) have mixed types. Specify dtype option on import or set low_memory=False.\n",
      "  dfRepayments = pd.read_csv(tables[2].replace(\".\", \"_\") + \".csv\")\n",
      "/tmp/ipykernel_21502/2919981745.py:14: DtypeWarning: Columns (5,6,9,10,13,17,18,21,22,25,26,28,30,33,36,37) have mixed types. Specify dtype option on import or set low_memory=False.\n",
      "  dfBorrows = pd.read_csv(tables[3].replace(\".\", \"_\") + \".csv\")\n"
     ]
    }
   ],
   "source": [
    "import pandas as pd \n",
    "#from numba import jit\n",
    "\n",
    "\n",
    "tables = [\"ethereum.aave.ez_deposits\", \n",
    "          \"ethereum.aave.ez_liquidations\", \n",
    "          \"ethereum.aave.ez_repayments\", \n",
    "          \"ethereum.aave.ez_borrows\", \n",
    "          \"ethereum.aave.ez_withdraws\"]\n",
    "\n",
    "dfDeposits = pd.read_csv(tables[0].replace(\".\", \"_\") + \".csv\")\n",
    "dfliquidations = pd.read_csv(tables[1].replace(\".\", \"_\") + \".csv\")\n",
    "dfRepayments = pd.read_csv(tables[2].replace(\".\", \"_\") + \".csv\")\n",
    "dfBorrows = pd.read_csv(tables[3].replace(\".\", \"_\") + \".csv\")\n",
    "dfWithdrawals = pd.read_csv(tables[4].replace(\".\", \"_\") + \".csv\")\n",
    "\n",
    "# Need to clean up data that is pulled from DB \n",
    "dfDeposits['Time'] = dfDeposits['block_timestamp'].astype('datetime64[ns]')\n",
    "dfliquidations['Time'] = dfliquidations['block_timestamp'].astype('datetime64[ns]')\n",
    "dfRepayments['Time'] = dfRepayments['block_timestamp'].astype('datetime64[ns]')\n",
    "dfBorrows['Time'] = dfBorrows['block_timestamp'].astype('datetime64[ns]')\n",
    "dfWithdrawals['Time'] = dfWithdrawals['block_timestamp'].astype('datetime64[ns]')\n"
   ]
  },
  {
   "cell_type": "code",
   "execution_count": 2,
   "id": "422cfe81",
   "metadata": {},
   "outputs": [],
   "source": [
    "assets = dfDeposits['symbol'].unique()"
   ]
  },
  {
   "cell_type": "code",
   "execution_count": 51,
   "id": "a26ea6a6",
   "metadata": {},
   "outputs": [
    {
     "data": {
      "text/plain": [
       "array(['WETH', 'DAI', 'AAVE', 'SNX', 'REN', 'TUSD', 'UNI', 'USDT', 'MKR',\n",
       "       'LINK', 'YFI', 'WBTC', 'ZRX', 'USDC', 'ENJ', 'KNC', 'sUSD', 'MANA',\n",
       "       'BUSD', 'BAT', 'CRV', 'GUSD', 'BAL', 'xSUSHI', 'renFIL', 'RAI',\n",
       "       'AMPL', 'USDP', 'DPI', 'FRAX', 'FEI', 'stETH', 'ENS', 'UST', 'CVX',\n",
       "       '1INCH', 'LUSD'], dtype=object)"
      ]
     },
     "execution_count": 51,
     "metadata": {},
     "output_type": "execute_result"
    }
   ],
   "source": [
    "assets"
   ]
  },
  {
   "cell_type": "code",
   "execution_count": 48,
   "id": "25a9f77b",
   "metadata": {},
   "outputs": [
    {
     "name": "stdout",
     "output_type": "stream",
     "text": [
      "2022-06-01 00:00:00\n",
      "2022-07-01 00:00:00\n",
      "2022-08-01 00:00:00\n",
      "2022-09-01 00:00:00\n",
      "2022-10-01 00:00:00\n",
      "2022-11-01 00:00:00\n",
      "2022-12-01 00:00:00\n"
     ]
    }
   ],
   "source": [
    "from datetime import timedelta\n",
    "\n",
    "for m in range(6,13):\n",
    "    print(pd.to_datetime(f\"2022-{m}-1\"))"
   ]
  },
  {
   "cell_type": "code",
   "execution_count": 66,
   "id": "cabf75f7",
   "metadata": {},
   "outputs": [],
   "source": [
    "month = 7 \n",
    "\n",
    "collateral = 'USDC'\n",
    "date = pd.to_datetime(f\"2022-{month}-1\")\n",
    "depositsReduced = dfDeposits[(dfDeposits.Time < date) & (dfDeposits.symbol == collateral)]\n",
    "\n",
    "\n",
    "minAmount = 20000\n",
    "\n",
    "users = depositsReduced[depositsReduced.supplied_usd > minAmount]['depositor_address'].unique()\n",
    "df = pd.DataFrame({'user' : users})\n",
    "\n",
    "dfDepositsClean = dfDeposits[(dfDeposits.depositor_address.isin(users) & (dfDeposits.Time < date))]\n",
    "dfliquidationsClean = dfliquidations[(dfliquidations.borrower.isin(users) & (dfliquidations.Time < date))]\n",
    "dfRepaymentsClean = dfRepayments[(dfRepayments.depositor_address.isin(users) & (dfRepayments.Time < date))]\n",
    "dfBorrowsClean = dfBorrows[(dfBorrows.depositor_address.isin(users) & (dfBorrows.Time < date))]\n",
    "dfWithdrawalsClean = dfWithdrawals[(dfWithdrawals.depositor_address.isin(users) & (dfWithdrawals.Time < date))]\n"
   ]
  },
  {
   "cell_type": "code",
   "execution_count": 67,
   "id": "26a646d8",
   "metadata": {
    "scrolled": true
   },
   "outputs": [
    {
     "data": {
      "text/html": [
       "<div>\n",
       "<style scoped>\n",
       "    .dataframe tbody tr th:only-of-type {\n",
       "        vertical-align: middle;\n",
       "    }\n",
       "\n",
       "    .dataframe tbody tr th {\n",
       "        vertical-align: top;\n",
       "    }\n",
       "\n",
       "    .dataframe thead th {\n",
       "        text-align: right;\n",
       "    }\n",
       "</style>\n",
       "<table border=\"1\" class=\"dataframe\">\n",
       "  <thead>\n",
       "    <tr style=\"text-align: right;\">\n",
       "      <th></th>\n",
       "      <th>Unnamed: 0</th>\n",
       "      <th>tx_hash</th>\n",
       "      <th>block_number</th>\n",
       "      <th>block_timestamp</th>\n",
       "      <th>event_index</th>\n",
       "      <th>aave_market</th>\n",
       "      <th>aave_token</th>\n",
       "      <th>issued_tokens</th>\n",
       "      <th>supplied_usd</th>\n",
       "      <th>depositor_address</th>\n",
       "      <th>...</th>\n",
       "      <th>debt_aave_token</th>\n",
       "      <th>debt_to_cover_amount</th>\n",
       "      <th>debt_to_cover_amount_usd</th>\n",
       "      <th>liquidator</th>\n",
       "      <th>borrower</th>\n",
       "      <th>collateral_token_price</th>\n",
       "      <th>collateral_token_symbol</th>\n",
       "      <th>debt_token_price</th>\n",
       "      <th>debt_token_symbol</th>\n",
       "      <th>Time</th>\n",
       "    </tr>\n",
       "  </thead>\n",
       "  <tbody>\n",
       "    <tr>\n",
       "      <th>406605</th>\n",
       "      <td>9</td>\n",
       "      <td>0xe4cd7ff0d68ece60648049e92d693f668c26bf240b14...</td>\n",
       "      <td>11502586</td>\n",
       "      <td>2020-12-22 09:57:27.000</td>\n",
       "      <td>214</td>\n",
       "      <td>NaN</td>\n",
       "      <td>NaN</td>\n",
       "      <td>NaN</td>\n",
       "      <td>NaN</td>\n",
       "      <td>NaN</td>\n",
       "      <td>...</td>\n",
       "      <td>0x5165d24277cd063f5ac44efd447b27025e888f37</td>\n",
       "      <td>1.470956</td>\n",
       "      <td>34462.046452</td>\n",
       "      <td>0x0ebe59b1dfdc730cc087cbc5c7bd351a1ce880bc</td>\n",
       "      <td>0x0afde4bfb50f3b908440c7e04ba7d45aa9f5ce7f</td>\n",
       "      <td>1.003457</td>\n",
       "      <td>USDC</td>\n",
       "      <td>23428.333325</td>\n",
       "      <td>YFI</td>\n",
       "      <td>2020-12-22 09:57:27</td>\n",
       "    </tr>\n",
       "    <tr>\n",
       "      <th>406606</th>\n",
       "      <td>10</td>\n",
       "      <td>0x368c7f16b248e7eb0f5df6b8eea11d25c1ddd5905086...</td>\n",
       "      <td>11502178</td>\n",
       "      <td>2020-12-22 08:25:48.000</td>\n",
       "      <td>175</td>\n",
       "      <td>NaN</td>\n",
       "      <td>NaN</td>\n",
       "      <td>NaN</td>\n",
       "      <td>NaN</td>\n",
       "      <td>NaN</td>\n",
       "      <td>...</td>\n",
       "      <td>0xa361718326c15715591c299427c62086f69923d9</td>\n",
       "      <td>129404.769186</td>\n",
       "      <td>128993.968618</td>\n",
       "      <td>0x0ebe59b1dfdc730cc087cbc5c7bd351a1ce880bc</td>\n",
       "      <td>0x5382859146010ac16e142b6708f8e178e77f66bc</td>\n",
       "      <td>22257.897982</td>\n",
       "      <td>WBTC</td>\n",
       "      <td>0.996825</td>\n",
       "      <td>BUSD</td>\n",
       "      <td>2020-12-22 08:25:48</td>\n",
       "    </tr>\n",
       "    <tr>\n",
       "      <th>406607</th>\n",
       "      <td>11</td>\n",
       "      <td>0x19504b1d2755179e3646c7de1ec9fded4761507209c4...</td>\n",
       "      <td>11512504</td>\n",
       "      <td>2020-12-23 22:18:45.000</td>\n",
       "      <td>48</td>\n",
       "      <td>NaN</td>\n",
       "      <td>NaN</td>\n",
       "      <td>NaN</td>\n",
       "      <td>NaN</td>\n",
       "      <td>NaN</td>\n",
       "      <td>...</td>\n",
       "      <td>0xbcca60bb61934080951369a648fb03df4f96263c</td>\n",
       "      <td>166270.567319</td>\n",
       "      <td>165281.410970</td>\n",
       "      <td>0xfdee74e6148dd4953d54314f2b37e168b57969ff</td>\n",
       "      <td>0x59655511bc501dec7193f2928aad4dbeea1afbd7</td>\n",
       "      <td>10.328588</td>\n",
       "      <td>LINK</td>\n",
       "      <td>0.994051</td>\n",
       "      <td>USDC</td>\n",
       "      <td>2020-12-23 22:18:45</td>\n",
       "    </tr>\n",
       "    <tr>\n",
       "      <th>406611</th>\n",
       "      <td>15</td>\n",
       "      <td>0xb04d1e7d847579411b0c0d3c332cdd91f0524aaba673...</td>\n",
       "      <td>11513561</td>\n",
       "      <td>2020-12-24 02:22:37.000</td>\n",
       "      <td>74</td>\n",
       "      <td>NaN</td>\n",
       "      <td>NaN</td>\n",
       "      <td>NaN</td>\n",
       "      <td>NaN</td>\n",
       "      <td>NaN</td>\n",
       "      <td>...</td>\n",
       "      <td>0x3ed3b47dd13ec9a98b44e6204a523e766b225811</td>\n",
       "      <td>7272.607696</td>\n",
       "      <td>7252.036310</td>\n",
       "      <td>0x0ebe59b1dfdc730cc087cbc5c7bd351a1ce880bc</td>\n",
       "      <td>0x8018b586e6c6ceae979d83fe2b938de88b454793</td>\n",
       "      <td>10.721948</td>\n",
       "      <td>LINK</td>\n",
       "      <td>0.997171</td>\n",
       "      <td>USDT</td>\n",
       "      <td>2020-12-24 02:22:37</td>\n",
       "    </tr>\n",
       "    <tr>\n",
       "      <th>406616</th>\n",
       "      <td>20</td>\n",
       "      <td>0xc342281fe46ea37feed0aab3ab4b57153dd078f87b9e...</td>\n",
       "      <td>11537672</td>\n",
       "      <td>2020-12-27 19:17:46.000</td>\n",
       "      <td>31</td>\n",
       "      <td>NaN</td>\n",
       "      <td>NaN</td>\n",
       "      <td>NaN</td>\n",
       "      <td>NaN</td>\n",
       "      <td>NaN</td>\n",
       "      <td>...</td>\n",
       "      <td>0x030ba81f1c18d280636f32af80b9aad02cf0854e</td>\n",
       "      <td>17.788193</td>\n",
       "      <td>12395.345230</td>\n",
       "      <td>0x2ca158422b940c6722640ac7fa726e8201cccd33</td>\n",
       "      <td>0xb46660091553d40433e939eb94fabf26420bf2d5</td>\n",
       "      <td>1.002648</td>\n",
       "      <td>DAI</td>\n",
       "      <td>696.829937</td>\n",
       "      <td>WETH</td>\n",
       "      <td>2020-12-27 19:17:46</td>\n",
       "    </tr>\n",
       "  </tbody>\n",
       "</table>\n",
       "<p>5 rows × 32 columns</p>\n",
       "</div>"
      ],
      "text/plain": [
       "        Unnamed: 0                                            tx_hash  \\\n",
       "406605           9  0xe4cd7ff0d68ece60648049e92d693f668c26bf240b14...   \n",
       "406606          10  0x368c7f16b248e7eb0f5df6b8eea11d25c1ddd5905086...   \n",
       "406607          11  0x19504b1d2755179e3646c7de1ec9fded4761507209c4...   \n",
       "406611          15  0xb04d1e7d847579411b0c0d3c332cdd91f0524aaba673...   \n",
       "406616          20  0xc342281fe46ea37feed0aab3ab4b57153dd078f87b9e...   \n",
       "\n",
       "        block_number          block_timestamp  event_index aave_market  \\\n",
       "406605      11502586  2020-12-22 09:57:27.000          214         NaN   \n",
       "406606      11502178  2020-12-22 08:25:48.000          175         NaN   \n",
       "406607      11512504  2020-12-23 22:18:45.000           48         NaN   \n",
       "406611      11513561  2020-12-24 02:22:37.000           74         NaN   \n",
       "406616      11537672  2020-12-27 19:17:46.000           31         NaN   \n",
       "\n",
       "       aave_token  issued_tokens  supplied_usd depositor_address  ...  \\\n",
       "406605        NaN            NaN           NaN               NaN  ...   \n",
       "406606        NaN            NaN           NaN               NaN  ...   \n",
       "406607        NaN            NaN           NaN               NaN  ...   \n",
       "406611        NaN            NaN           NaN               NaN  ...   \n",
       "406616        NaN            NaN           NaN               NaN  ...   \n",
       "\n",
       "                                   debt_aave_token debt_to_cover_amount  \\\n",
       "406605  0x5165d24277cd063f5ac44efd447b27025e888f37             1.470956   \n",
       "406606  0xa361718326c15715591c299427c62086f69923d9        129404.769186   \n",
       "406607  0xbcca60bb61934080951369a648fb03df4f96263c        166270.567319   \n",
       "406611  0x3ed3b47dd13ec9a98b44e6204a523e766b225811          7272.607696   \n",
       "406616  0x030ba81f1c18d280636f32af80b9aad02cf0854e            17.788193   \n",
       "\n",
       "        debt_to_cover_amount_usd                                  liquidator  \\\n",
       "406605              34462.046452  0x0ebe59b1dfdc730cc087cbc5c7bd351a1ce880bc   \n",
       "406606             128993.968618  0x0ebe59b1dfdc730cc087cbc5c7bd351a1ce880bc   \n",
       "406607             165281.410970  0xfdee74e6148dd4953d54314f2b37e168b57969ff   \n",
       "406611               7252.036310  0x0ebe59b1dfdc730cc087cbc5c7bd351a1ce880bc   \n",
       "406616              12395.345230  0x2ca158422b940c6722640ac7fa726e8201cccd33   \n",
       "\n",
       "                                          borrower collateral_token_price  \\\n",
       "406605  0x0afde4bfb50f3b908440c7e04ba7d45aa9f5ce7f               1.003457   \n",
       "406606  0x5382859146010ac16e142b6708f8e178e77f66bc           22257.897982   \n",
       "406607  0x59655511bc501dec7193f2928aad4dbeea1afbd7              10.328588   \n",
       "406611  0x8018b586e6c6ceae979d83fe2b938de88b454793              10.721948   \n",
       "406616  0xb46660091553d40433e939eb94fabf26420bf2d5               1.002648   \n",
       "\n",
       "       collateral_token_symbol debt_token_price debt_token_symbol  \\\n",
       "406605                    USDC     23428.333325               YFI   \n",
       "406606                    WBTC         0.996825              BUSD   \n",
       "406607                    LINK         0.994051              USDC   \n",
       "406611                    LINK         0.997171              USDT   \n",
       "406616                     DAI       696.829937              WETH   \n",
       "\n",
       "                      Time  \n",
       "406605 2020-12-22 09:57:27  \n",
       "406606 2020-12-22 08:25:48  \n",
       "406607 2020-12-23 22:18:45  \n",
       "406611 2020-12-24 02:22:37  \n",
       "406616 2020-12-27 19:17:46  \n",
       "\n",
       "[5 rows x 32 columns]"
      ]
     },
     "execution_count": 67,
     "metadata": {},
     "output_type": "execute_result"
    }
   ],
   "source": [
    "dfliquidationsClean.head()"
   ]
  },
  {
   "cell_type": "code",
   "execution_count": null,
   "id": "4845d13a",
   "metadata": {},
   "outputs": [],
   "source": []
  },
  {
   "cell_type": "code",
   "execution_count": 68,
   "id": "0be081cd",
   "metadata": {},
   "outputs": [],
   "source": [
    "assetList = ['USDC', 'WETH', 'USDT', 'DAI']\n",
    "\n",
    "for asset in assetList : \n",
    "\n",
    "    assetDeposits = dfDepositsClean[dfDepositsClean.symbol == asset]\n",
    "    assetBorrows = dfBorrowsClean[dfBorrowsClean.symbol == asset]\n",
    "    assetWithdraws = dfWithdrawalsClean[dfWithdrawalsClean.symbol == asset]\n",
    "    assetRepayments = dfRepaymentsClean[dfRepaymentsClean.symbol == asset]\n",
    "    assetLiquidations = dfliquidationsClean[dfliquidationsClean.collateral_token_symbol == asset]\n",
    "\n",
    "    def find_first_deposit(row):    \n",
    "        return assetDeposits[assetDeposits.depositor_address == row['user']]['Time'].min()\n",
    "\n",
    "    def find_first_borrow(row):    \n",
    "        return assetBorrows[assetBorrows.borrower_address == row['user']]['Time'].min()\n",
    "\n",
    "    def find_total_deposits(row):    \n",
    "        return assetDeposits[assetDeposits.depositor_address == row['user']]['issued_tokens'].sum()\n",
    "\n",
    "    def find_total_borrows(row):    \n",
    "        return assetBorrows[assetBorrows.borrower_address == row['user']]['borrowed_tokens'].sum()\n",
    "\n",
    "    def find_total_withdrawals(row):    \n",
    "        return assetWithdraws[assetWithdraws.depositor_address == row['user']]['withdrawn_tokens'].sum()\n",
    "\n",
    "    def find_total_liquidations(row):    \n",
    "        return assetBorrows[assetBorrows.borrower_address == row['user']]['liquidated_amount'].sum()\n",
    "\n",
    "    df['firstDeposit' + asset] = df.apply(find_first_deposit,axis =1)\n",
    "    df['firstBorrow' + asset] = df.apply(find_first_borrow,axis =1)  \n",
    "\n",
    "    df['daysSinceDeposit' + asset] = date - df['firstDeposit' + asset]\n",
    "    df['daysSinceBorrow' + asset] = date - df['firstDeposit' + asset]     \n",
    "\n",
    "    df['totalDeposits' + asset] = df.apply(find_total_deposits,axis =1)\n",
    "    df['totalBorrowed' + asset] = df.apply(find_total_borrows,axis =1)\n",
    "    df['totalWithdraws' + asset] = df.apply(find_total_withdrawals,axis =1)\n",
    "    df['totalLiquidated' + asset] = df.apply(find_total_liquidations,axis =1)\n",
    "\n",
    "\n"
   ]
  },
  {
   "cell_type": "code",
   "execution_count": 92,
   "id": "71770de2",
   "metadata": {},
   "outputs": [],
   "source": [
    "df[collateral + 'Balance'] = df['totalDeposits' + collateral] - df['totalWithdraws' + collateral] - df['totalLiquidated' + collateral]\n",
    "\n",
    "# how far in the future do we want to predict \n",
    "futureDays = 90\n",
    "futureDate = date + timedelta(days = futureDays)\n",
    "\n",
    "dfWithdrawFuture = dfWithdrawals[(dfWithdrawals.depositor_address.isin(users) & ((dfWithdrawals.Time >= date) & (dfWithdrawals.Time  < futureDate)))]\n",
    "dfWithdrawFuture = dfWithdrawFuture[dfWithdrawFuture.symbol == collateral]\n",
    "\n",
    "df[collateral + 'Withdraw'] = df.user.isin(dfWithdrawFuture.depositor_address)"
   ]
  },
  {
   "cell_type": "code",
   "execution_count": 93,
   "id": "8259a151",
   "metadata": {},
   "outputs": [
    {
     "data": {
      "text/plain": [
       "count      8291\n",
       "unique        2\n",
       "top       False\n",
       "freq       7616\n",
       "Name: USDCWithdraw, dtype: object"
      ]
     },
     "execution_count": 93,
     "metadata": {},
     "output_type": "execute_result"
    }
   ],
   "source": [
    "df[collateral + 'Withdraw'].describe()"
   ]
  },
  {
   "cell_type": "code",
   "execution_count": 95,
   "id": "c0342a3d",
   "metadata": {},
   "outputs": [
    {
     "data": {
      "text/plain": [
       "pandas._libs.tslibs.timedeltas.Timedelta"
      ]
     },
     "execution_count": 95,
     "metadata": {},
     "output_type": "execute_result"
    }
   ],
   "source": [
    "type(df['daysSinceDeposit' + asset].iloc[0])"
   ]
  },
  {
   "cell_type": "code",
   "execution_count": 96,
   "id": "6cd2821d",
   "metadata": {},
   "outputs": [],
   "source": [
    "for asset in assetList : \n",
    "    df['daysSinceDeposit_' + asset] = df['daysSinceDeposit' + asset] / timedelta(hours = 24)\n",
    "    df['daysSinceBorrow_' + asset] = df['daysSinceBorrow' + asset] / timedelta(hours = 24)"
   ]
  },
  {
   "cell_type": "code",
   "execution_count": 97,
   "id": "1cbaf0c9",
   "metadata": {},
   "outputs": [],
   "source": [
    "from fastai.tabular.all import *\n",
    "\n",
    "# Here we want to predict if a users will withdraw or not in the next X days based on their historical interactions with AAVE \n",
    "\n",
    "cat_names = []\n",
    "cont_names = []\n",
    "for asset in assetList : \n",
    "    cont_names.append('daysSinceDeposit_' + asset)\n",
    "    cont_names.append('daysSinceBorrow_' + asset)\n",
    "    cont_names.append('totalDeposits' + asset)\n",
    "    cont_names.append('totalBorrowed' + asset)\n",
    "    cont_names.append('totalWithdraws' + asset)\n",
    "    cont_names.append('totalLiquidated' + asset)\n",
    "\n",
    "splits = RandomSplitter(valid_pct=0.2)(range_of(df))\n",
    "\n",
    "procs = [Categorify, FillMissing, Normalize]\n",
    "dls = TabularDataLoaders.from_df(df, '', procs=procs, cat_names=cat_names, cont_names=cont_names, \n",
    "                                 y_names=collateral + 'Withdraw', splits=splits, bs=64)\n",
    "learn = tabular_learner(dls, metrics=accuracy)\n",
    "\n"
   ]
  },
  {
   "cell_type": "code",
   "execution_count": 98,
   "id": "5d7fbdfc",
   "metadata": {},
   "outputs": [
    {
     "data": {
      "text/html": [
       "\n",
       "<style>\n",
       "    /* Turns off some styling */\n",
       "    progress {\n",
       "        /* gets rid of default border in Firefox and Opera. */\n",
       "        border: none;\n",
       "        /* Needs to be in here for Safari polyfill so background images work as expected. */\n",
       "        background-size: auto;\n",
       "    }\n",
       "    progress:not([value]), progress:not([value])::-webkit-progress-bar {\n",
       "        background: repeating-linear-gradient(45deg, #7e7e7e, #7e7e7e 10px, #5c5c5c 10px, #5c5c5c 20px);\n",
       "    }\n",
       "    .progress-bar-interrupted, .progress-bar-interrupted::-webkit-progress-bar {\n",
       "        background: #F44336;\n",
       "    }\n",
       "</style>\n"
      ],
      "text/plain": [
       "<IPython.core.display.HTML object>"
      ]
     },
     "metadata": {},
     "output_type": "display_data"
    },
    {
     "data": {
      "text/html": [
       "<table border=\"1\" class=\"dataframe\">\n",
       "  <thead>\n",
       "    <tr style=\"text-align: left;\">\n",
       "      <th>epoch</th>\n",
       "      <th>train_loss</th>\n",
       "      <th>valid_loss</th>\n",
       "      <th>accuracy</th>\n",
       "      <th>time</th>\n",
       "    </tr>\n",
       "  </thead>\n",
       "  <tbody>\n",
       "    <tr>\n",
       "      <td>0</td>\n",
       "      <td>0.593163</td>\n",
       "      <td>0.550359</td>\n",
       "      <td>0.841978</td>\n",
       "      <td>00:00</td>\n",
       "    </tr>\n",
       "    <tr>\n",
       "      <td>1</td>\n",
       "      <td>0.387193</td>\n",
       "      <td>0.317595</td>\n",
       "      <td>0.907720</td>\n",
       "      <td>00:00</td>\n",
       "    </tr>\n",
       "    <tr>\n",
       "      <td>2</td>\n",
       "      <td>0.288442</td>\n",
       "      <td>0.259789</td>\n",
       "      <td>0.916164</td>\n",
       "      <td>00:00</td>\n",
       "    </tr>\n",
       "    <tr>\n",
       "      <td>3</td>\n",
       "      <td>0.247378</td>\n",
       "      <td>0.270546</td>\n",
       "      <td>0.914355</td>\n",
       "      <td>00:00</td>\n",
       "    </tr>\n",
       "    <tr>\n",
       "      <td>4</td>\n",
       "      <td>0.234956</td>\n",
       "      <td>0.257199</td>\n",
       "      <td>0.916767</td>\n",
       "      <td>00:00</td>\n",
       "    </tr>\n",
       "  </tbody>\n",
       "</table>"
      ],
      "text/plain": [
       "<IPython.core.display.HTML object>"
      ]
     },
     "metadata": {},
     "output_type": "display_data"
    }
   ],
   "source": [
    "learn.fit_one_cycle(5)\n"
   ]
  },
  {
   "cell_type": "code",
   "execution_count": null,
   "id": "591ae9fd",
   "metadata": {},
   "outputs": [],
   "source": []
  }
 ],
 "metadata": {
  "kernelspec": {
   "display_name": "Python 3 (ipykernel)",
   "language": "python",
   "name": "python3"
  },
  "language_info": {
   "codemirror_mode": {
    "name": "ipython",
    "version": 3
   },
   "file_extension": ".py",
   "mimetype": "text/x-python",
   "name": "python",
   "nbconvert_exporter": "python",
   "pygments_lexer": "ipython3",
   "version": "3.10.8"
  }
 },
 "nbformat": 4,
 "nbformat_minor": 5
}
